{
  "nbformat": 4,
  "nbformat_minor": 0,
  "metadata": {
    "colab": {
      "name": "B1812338_NguyenVietHao_Kaggle_code.ipynb",
      "provenance": [],
      "collapsed_sections": []
    },
    "kernelspec": {
      "name": "python3",
      "display_name": "Python 3"
    },
    "language_info": {
      "name": "python"
    }
  },
  "cells": [
    {
      "cell_type": "code",
      "metadata": {
        "colab": {
          "base_uri": "https://localhost:8080/"
        },
        "id": "t0exlCg1huzx",
        "outputId": "4f1b5533-31e0-456f-918a-ebc1415b8396"
      },
      "source": [
        "from google.colab import drive\n",
        "drive.mount('/content/drive')"
      ],
      "execution_count": 1,
      "outputs": [
        {
          "output_type": "stream",
          "name": "stdout",
          "text": [
            "Drive already mounted at /content/drive; to attempt to forcibly remount, call drive.mount(\"/content/drive\", force_remount=True).\n"
          ]
        }
      ]
    },
    {
      "cell_type": "code",
      "metadata": {
        "id": "iYtWNAh7hM6L"
      },
      "source": [
        "# import các thư viện cần\n",
        "import numpy as np\n",
        "import pandas as pd\n",
        "import lightgbm as lgb\n",
        "from sklearn.model_selection import KFold\n",
        "import matplotlib.mlab as mlab\n",
        "import matplotlib.pyplot as plt\n",
        "import seaborn as sns\n",
        "import xgboost as xgb\n",
        "import copy"
      ],
      "execution_count": 2,
      "outputs": []
    },
    {
      "cell_type": "markdown",
      "metadata": {
        "id": "NaKw_vrxoel6"
      },
      "source": [
        "#Nạp dữ liệu"
      ]
    },
    {
      "cell_type": "code",
      "metadata": {
        "id": "UXC7lEHtoKWI"
      },
      "source": [
        "train = pd.read_csv('/content/drive/MyDrive/Colab Notebooks/train.csv')\n",
        "test = pd.read_csv('/content/drive/MyDrive/Colab Notebooks/test.csv')\n",
        "sample_submission = pd.read_csv('/content/drive/MyDrive/Colab Notebooks/sample_submission.csv')"
      ],
      "execution_count": 3,
      "outputs": []
    },
    {
      "cell_type": "code",
      "metadata": {
        "id": "-62lWqHe3jks"
      },
      "source": [
        "train111 = copy.deepcopy(train)"
      ],
      "execution_count": 4,
      "outputs": []
    },
    {
      "cell_type": "code",
      "metadata": {
        "colab": {
          "base_uri": "https://localhost:8080/",
          "height": 408
        },
        "id": "Dex2wo2zpNIJ",
        "outputId": "e874f768-e0ea-4fb4-bad0-08cf3227e91e"
      },
      "source": [
        "train"
      ],
      "execution_count": 5,
      "outputs": [
        {
          "output_type": "execute_result",
          "data": {
            "text/html": [
              "<div>\n",
              "<style scoped>\n",
              "    .dataframe tbody tr th:only-of-type {\n",
              "        vertical-align: middle;\n",
              "    }\n",
              "\n",
              "    .dataframe tbody tr th {\n",
              "        vertical-align: top;\n",
              "    }\n",
              "\n",
              "    .dataframe thead th {\n",
              "        text-align: right;\n",
              "    }\n",
              "</style>\n",
              "<table border=\"1\" class=\"dataframe\">\n",
              "  <thead>\n",
              "    <tr style=\"text-align: right;\">\n",
              "      <th></th>\n",
              "      <th>date</th>\n",
              "      <th>store</th>\n",
              "      <th>item</th>\n",
              "      <th>sales</th>\n",
              "    </tr>\n",
              "  </thead>\n",
              "  <tbody>\n",
              "    <tr>\n",
              "      <th>0</th>\n",
              "      <td>2013-01-01</td>\n",
              "      <td>1</td>\n",
              "      <td>1</td>\n",
              "      <td>13</td>\n",
              "    </tr>\n",
              "    <tr>\n",
              "      <th>1</th>\n",
              "      <td>2013-01-02</td>\n",
              "      <td>1</td>\n",
              "      <td>1</td>\n",
              "      <td>11</td>\n",
              "    </tr>\n",
              "    <tr>\n",
              "      <th>2</th>\n",
              "      <td>2013-01-03</td>\n",
              "      <td>1</td>\n",
              "      <td>1</td>\n",
              "      <td>14</td>\n",
              "    </tr>\n",
              "    <tr>\n",
              "      <th>3</th>\n",
              "      <td>2013-01-04</td>\n",
              "      <td>1</td>\n",
              "      <td>1</td>\n",
              "      <td>13</td>\n",
              "    </tr>\n",
              "    <tr>\n",
              "      <th>4</th>\n",
              "      <td>2013-01-05</td>\n",
              "      <td>1</td>\n",
              "      <td>1</td>\n",
              "      <td>10</td>\n",
              "    </tr>\n",
              "    <tr>\n",
              "      <th>...</th>\n",
              "      <td>...</td>\n",
              "      <td>...</td>\n",
              "      <td>...</td>\n",
              "      <td>...</td>\n",
              "    </tr>\n",
              "    <tr>\n",
              "      <th>912995</th>\n",
              "      <td>2017-12-27</td>\n",
              "      <td>10</td>\n",
              "      <td>50</td>\n",
              "      <td>63</td>\n",
              "    </tr>\n",
              "    <tr>\n",
              "      <th>912996</th>\n",
              "      <td>2017-12-28</td>\n",
              "      <td>10</td>\n",
              "      <td>50</td>\n",
              "      <td>59</td>\n",
              "    </tr>\n",
              "    <tr>\n",
              "      <th>912997</th>\n",
              "      <td>2017-12-29</td>\n",
              "      <td>10</td>\n",
              "      <td>50</td>\n",
              "      <td>74</td>\n",
              "    </tr>\n",
              "    <tr>\n",
              "      <th>912998</th>\n",
              "      <td>2017-12-30</td>\n",
              "      <td>10</td>\n",
              "      <td>50</td>\n",
              "      <td>62</td>\n",
              "    </tr>\n",
              "    <tr>\n",
              "      <th>912999</th>\n",
              "      <td>2017-12-31</td>\n",
              "      <td>10</td>\n",
              "      <td>50</td>\n",
              "      <td>82</td>\n",
              "    </tr>\n",
              "  </tbody>\n",
              "</table>\n",
              "<p>913000 rows × 4 columns</p>\n",
              "</div>"
            ],
            "text/plain": [
              "              date  store  item  sales\n",
              "0       2013-01-01      1     1     13\n",
              "1       2013-01-02      1     1     11\n",
              "2       2013-01-03      1     1     14\n",
              "3       2013-01-04      1     1     13\n",
              "4       2013-01-05      1     1     10\n",
              "...            ...    ...   ...    ...\n",
              "912995  2017-12-27     10    50     63\n",
              "912996  2017-12-28     10    50     59\n",
              "912997  2017-12-29     10    50     74\n",
              "912998  2017-12-30     10    50     62\n",
              "912999  2017-12-31     10    50     82\n",
              "\n",
              "[913000 rows x 4 columns]"
            ]
          },
          "metadata": {},
          "execution_count": 5
        }
      ]
    },
    {
      "cell_type": "code",
      "metadata": {
        "colab": {
          "base_uri": "https://localhost:8080/",
          "height": 408
        },
        "id": "YMUBfgqip0Ge",
        "outputId": "01f8da65-6a58-48e9-e52f-181ccfdfea6e"
      },
      "source": [
        "test"
      ],
      "execution_count": 6,
      "outputs": [
        {
          "output_type": "execute_result",
          "data": {
            "text/html": [
              "<div>\n",
              "<style scoped>\n",
              "    .dataframe tbody tr th:only-of-type {\n",
              "        vertical-align: middle;\n",
              "    }\n",
              "\n",
              "    .dataframe tbody tr th {\n",
              "        vertical-align: top;\n",
              "    }\n",
              "\n",
              "    .dataframe thead th {\n",
              "        text-align: right;\n",
              "    }\n",
              "</style>\n",
              "<table border=\"1\" class=\"dataframe\">\n",
              "  <thead>\n",
              "    <tr style=\"text-align: right;\">\n",
              "      <th></th>\n",
              "      <th>id</th>\n",
              "      <th>date</th>\n",
              "      <th>store</th>\n",
              "      <th>item</th>\n",
              "    </tr>\n",
              "  </thead>\n",
              "  <tbody>\n",
              "    <tr>\n",
              "      <th>0</th>\n",
              "      <td>0</td>\n",
              "      <td>2018-01-01</td>\n",
              "      <td>1</td>\n",
              "      <td>1</td>\n",
              "    </tr>\n",
              "    <tr>\n",
              "      <th>1</th>\n",
              "      <td>1</td>\n",
              "      <td>2018-01-02</td>\n",
              "      <td>1</td>\n",
              "      <td>1</td>\n",
              "    </tr>\n",
              "    <tr>\n",
              "      <th>2</th>\n",
              "      <td>2</td>\n",
              "      <td>2018-01-03</td>\n",
              "      <td>1</td>\n",
              "      <td>1</td>\n",
              "    </tr>\n",
              "    <tr>\n",
              "      <th>3</th>\n",
              "      <td>3</td>\n",
              "      <td>2018-01-04</td>\n",
              "      <td>1</td>\n",
              "      <td>1</td>\n",
              "    </tr>\n",
              "    <tr>\n",
              "      <th>4</th>\n",
              "      <td>4</td>\n",
              "      <td>2018-01-05</td>\n",
              "      <td>1</td>\n",
              "      <td>1</td>\n",
              "    </tr>\n",
              "    <tr>\n",
              "      <th>...</th>\n",
              "      <td>...</td>\n",
              "      <td>...</td>\n",
              "      <td>...</td>\n",
              "      <td>...</td>\n",
              "    </tr>\n",
              "    <tr>\n",
              "      <th>44995</th>\n",
              "      <td>44995</td>\n",
              "      <td>2018-03-27</td>\n",
              "      <td>10</td>\n",
              "      <td>50</td>\n",
              "    </tr>\n",
              "    <tr>\n",
              "      <th>44996</th>\n",
              "      <td>44996</td>\n",
              "      <td>2018-03-28</td>\n",
              "      <td>10</td>\n",
              "      <td>50</td>\n",
              "    </tr>\n",
              "    <tr>\n",
              "      <th>44997</th>\n",
              "      <td>44997</td>\n",
              "      <td>2018-03-29</td>\n",
              "      <td>10</td>\n",
              "      <td>50</td>\n",
              "    </tr>\n",
              "    <tr>\n",
              "      <th>44998</th>\n",
              "      <td>44998</td>\n",
              "      <td>2018-03-30</td>\n",
              "      <td>10</td>\n",
              "      <td>50</td>\n",
              "    </tr>\n",
              "    <tr>\n",
              "      <th>44999</th>\n",
              "      <td>44999</td>\n",
              "      <td>2018-03-31</td>\n",
              "      <td>10</td>\n",
              "      <td>50</td>\n",
              "    </tr>\n",
              "  </tbody>\n",
              "</table>\n",
              "<p>45000 rows × 4 columns</p>\n",
              "</div>"
            ],
            "text/plain": [
              "          id        date  store  item\n",
              "0          0  2018-01-01      1     1\n",
              "1          1  2018-01-02      1     1\n",
              "2          2  2018-01-03      1     1\n",
              "3          3  2018-01-04      1     1\n",
              "4          4  2018-01-05      1     1\n",
              "...      ...         ...    ...   ...\n",
              "44995  44995  2018-03-27     10    50\n",
              "44996  44996  2018-03-28     10    50\n",
              "44997  44997  2018-03-29     10    50\n",
              "44998  44998  2018-03-30     10    50\n",
              "44999  44999  2018-03-31     10    50\n",
              "\n",
              "[45000 rows x 4 columns]"
            ]
          },
          "metadata": {},
          "execution_count": 6
        }
      ]
    },
    {
      "cell_type": "code",
      "metadata": {
        "colab": {
          "base_uri": "https://localhost:8080/",
          "height": 408
        },
        "id": "lrzaj5HWWzGj",
        "outputId": "5e39a481-9381-4bb3-d4c9-d6aee13c0468"
      },
      "source": [
        "sample_submission"
      ],
      "execution_count": 7,
      "outputs": [
        {
          "output_type": "execute_result",
          "data": {
            "text/html": [
              "<div>\n",
              "<style scoped>\n",
              "    .dataframe tbody tr th:only-of-type {\n",
              "        vertical-align: middle;\n",
              "    }\n",
              "\n",
              "    .dataframe tbody tr th {\n",
              "        vertical-align: top;\n",
              "    }\n",
              "\n",
              "    .dataframe thead th {\n",
              "        text-align: right;\n",
              "    }\n",
              "</style>\n",
              "<table border=\"1\" class=\"dataframe\">\n",
              "  <thead>\n",
              "    <tr style=\"text-align: right;\">\n",
              "      <th></th>\n",
              "      <th>id</th>\n",
              "      <th>sales</th>\n",
              "    </tr>\n",
              "  </thead>\n",
              "  <tbody>\n",
              "    <tr>\n",
              "      <th>0</th>\n",
              "      <td>0</td>\n",
              "      <td>52</td>\n",
              "    </tr>\n",
              "    <tr>\n",
              "      <th>1</th>\n",
              "      <td>1</td>\n",
              "      <td>52</td>\n",
              "    </tr>\n",
              "    <tr>\n",
              "      <th>2</th>\n",
              "      <td>2</td>\n",
              "      <td>52</td>\n",
              "    </tr>\n",
              "    <tr>\n",
              "      <th>3</th>\n",
              "      <td>3</td>\n",
              "      <td>52</td>\n",
              "    </tr>\n",
              "    <tr>\n",
              "      <th>4</th>\n",
              "      <td>4</td>\n",
              "      <td>52</td>\n",
              "    </tr>\n",
              "    <tr>\n",
              "      <th>...</th>\n",
              "      <td>...</td>\n",
              "      <td>...</td>\n",
              "    </tr>\n",
              "    <tr>\n",
              "      <th>44995</th>\n",
              "      <td>44995</td>\n",
              "      <td>52</td>\n",
              "    </tr>\n",
              "    <tr>\n",
              "      <th>44996</th>\n",
              "      <td>44996</td>\n",
              "      <td>52</td>\n",
              "    </tr>\n",
              "    <tr>\n",
              "      <th>44997</th>\n",
              "      <td>44997</td>\n",
              "      <td>52</td>\n",
              "    </tr>\n",
              "    <tr>\n",
              "      <th>44998</th>\n",
              "      <td>44998</td>\n",
              "      <td>52</td>\n",
              "    </tr>\n",
              "    <tr>\n",
              "      <th>44999</th>\n",
              "      <td>44999</td>\n",
              "      <td>52</td>\n",
              "    </tr>\n",
              "  </tbody>\n",
              "</table>\n",
              "<p>45000 rows × 2 columns</p>\n",
              "</div>"
            ],
            "text/plain": [
              "          id  sales\n",
              "0          0     52\n",
              "1          1     52\n",
              "2          2     52\n",
              "3          3     52\n",
              "4          4     52\n",
              "...      ...    ...\n",
              "44995  44995     52\n",
              "44996  44996     52\n",
              "44997  44997     52\n",
              "44998  44998     52\n",
              "44999  44999     52\n",
              "\n",
              "[45000 rows x 2 columns]"
            ]
          },
          "metadata": {},
          "execution_count": 7
        }
      ]
    },
    {
      "cell_type": "markdown",
      "metadata": {
        "id": "5LWDmGs3pSXb"
      },
      "source": [
        "# Nối tập test và train thành 1 tập là two_df"
      ]
    },
    {
      "cell_type": "code",
      "metadata": {
        "id": "eYASBWXupRmv"
      },
      "source": [
        "two_df = pd.concat([train, test], sort=False)"
      ],
      "execution_count": 8,
      "outputs": []
    },
    {
      "cell_type": "code",
      "metadata": {
        "colab": {
          "base_uri": "https://localhost:8080/",
          "height": 408
        },
        "id": "I1ZFny4ApiuL",
        "outputId": "70a76c0b-40f5-4143-f611-3cba14581c7d"
      },
      "source": [
        "two_df"
      ],
      "execution_count": 9,
      "outputs": [
        {
          "output_type": "execute_result",
          "data": {
            "text/html": [
              "<div>\n",
              "<style scoped>\n",
              "    .dataframe tbody tr th:only-of-type {\n",
              "        vertical-align: middle;\n",
              "    }\n",
              "\n",
              "    .dataframe tbody tr th {\n",
              "        vertical-align: top;\n",
              "    }\n",
              "\n",
              "    .dataframe thead th {\n",
              "        text-align: right;\n",
              "    }\n",
              "</style>\n",
              "<table border=\"1\" class=\"dataframe\">\n",
              "  <thead>\n",
              "    <tr style=\"text-align: right;\">\n",
              "      <th></th>\n",
              "      <th>date</th>\n",
              "      <th>store</th>\n",
              "      <th>item</th>\n",
              "      <th>sales</th>\n",
              "      <th>id</th>\n",
              "    </tr>\n",
              "  </thead>\n",
              "  <tbody>\n",
              "    <tr>\n",
              "      <th>0</th>\n",
              "      <td>2013-01-01</td>\n",
              "      <td>1</td>\n",
              "      <td>1</td>\n",
              "      <td>13.0</td>\n",
              "      <td>NaN</td>\n",
              "    </tr>\n",
              "    <tr>\n",
              "      <th>1</th>\n",
              "      <td>2013-01-02</td>\n",
              "      <td>1</td>\n",
              "      <td>1</td>\n",
              "      <td>11.0</td>\n",
              "      <td>NaN</td>\n",
              "    </tr>\n",
              "    <tr>\n",
              "      <th>2</th>\n",
              "      <td>2013-01-03</td>\n",
              "      <td>1</td>\n",
              "      <td>1</td>\n",
              "      <td>14.0</td>\n",
              "      <td>NaN</td>\n",
              "    </tr>\n",
              "    <tr>\n",
              "      <th>3</th>\n",
              "      <td>2013-01-04</td>\n",
              "      <td>1</td>\n",
              "      <td>1</td>\n",
              "      <td>13.0</td>\n",
              "      <td>NaN</td>\n",
              "    </tr>\n",
              "    <tr>\n",
              "      <th>4</th>\n",
              "      <td>2013-01-05</td>\n",
              "      <td>1</td>\n",
              "      <td>1</td>\n",
              "      <td>10.0</td>\n",
              "      <td>NaN</td>\n",
              "    </tr>\n",
              "    <tr>\n",
              "      <th>...</th>\n",
              "      <td>...</td>\n",
              "      <td>...</td>\n",
              "      <td>...</td>\n",
              "      <td>...</td>\n",
              "      <td>...</td>\n",
              "    </tr>\n",
              "    <tr>\n",
              "      <th>44995</th>\n",
              "      <td>2018-03-27</td>\n",
              "      <td>10</td>\n",
              "      <td>50</td>\n",
              "      <td>NaN</td>\n",
              "      <td>44995.0</td>\n",
              "    </tr>\n",
              "    <tr>\n",
              "      <th>44996</th>\n",
              "      <td>2018-03-28</td>\n",
              "      <td>10</td>\n",
              "      <td>50</td>\n",
              "      <td>NaN</td>\n",
              "      <td>44996.0</td>\n",
              "    </tr>\n",
              "    <tr>\n",
              "      <th>44997</th>\n",
              "      <td>2018-03-29</td>\n",
              "      <td>10</td>\n",
              "      <td>50</td>\n",
              "      <td>NaN</td>\n",
              "      <td>44997.0</td>\n",
              "    </tr>\n",
              "    <tr>\n",
              "      <th>44998</th>\n",
              "      <td>2018-03-30</td>\n",
              "      <td>10</td>\n",
              "      <td>50</td>\n",
              "      <td>NaN</td>\n",
              "      <td>44998.0</td>\n",
              "    </tr>\n",
              "    <tr>\n",
              "      <th>44999</th>\n",
              "      <td>2018-03-31</td>\n",
              "      <td>10</td>\n",
              "      <td>50</td>\n",
              "      <td>NaN</td>\n",
              "      <td>44999.0</td>\n",
              "    </tr>\n",
              "  </tbody>\n",
              "</table>\n",
              "<p>958000 rows × 5 columns</p>\n",
              "</div>"
            ],
            "text/plain": [
              "             date  store  item  sales       id\n",
              "0      2013-01-01      1     1   13.0      NaN\n",
              "1      2013-01-02      1     1   11.0      NaN\n",
              "2      2013-01-03      1     1   14.0      NaN\n",
              "3      2013-01-04      1     1   13.0      NaN\n",
              "4      2013-01-05      1     1   10.0      NaN\n",
              "...           ...    ...   ...    ...      ...\n",
              "44995  2018-03-27     10    50    NaN  44995.0\n",
              "44996  2018-03-28     10    50    NaN  44996.0\n",
              "44997  2018-03-29     10    50    NaN  44997.0\n",
              "44998  2018-03-30     10    50    NaN  44998.0\n",
              "44999  2018-03-31     10    50    NaN  44999.0\n",
              "\n",
              "[958000 rows x 5 columns]"
            ]
          },
          "metadata": {},
          "execution_count": 9
        }
      ]
    },
    {
      "cell_type": "markdown",
      "metadata": {
        "id": "eK2RXg1bqvwz"
      },
      "source": [
        "#0 -> 912999(của tập train), sau đó 0 -> 44999(của tập test)  => ta có 958000 dòng và 5 cột"
      ]
    },
    {
      "cell_type": "code",
      "metadata": {
        "colab": {
          "base_uri": "https://localhost:8080/"
        },
        "id": "45g-3-hTln1t",
        "outputId": "afe48bc7-eee3-4bae-b098-0b1cd7e4868a"
      },
      "source": [
        "two_df.shape"
      ],
      "execution_count": 10,
      "outputs": [
        {
          "output_type": "execute_result",
          "data": {
            "text/plain": [
              "(958000, 5)"
            ]
          },
          "metadata": {},
          "execution_count": 10
        }
      ]
    },
    {
      "cell_type": "markdown",
      "metadata": {
        "id": "YZta1a96rvrH"
      },
      "source": [
        "# Tách cột date cụ thể hơn => thêm vào các cột mới"
      ]
    },
    {
      "cell_type": "code",
      "metadata": {
        "colab": {
          "base_uri": "https://localhost:8080/"
        },
        "id": "98BMgIcJsGUT",
        "outputId": "5d35f8e8-34af-4447-d526-23f2b64d98f4"
      },
      "source": [
        "two_df.dtypes"
      ],
      "execution_count": 11,
      "outputs": [
        {
          "output_type": "execute_result",
          "data": {
            "text/plain": [
              "date      object\n",
              "store      int64\n",
              "item       int64\n",
              "sales    float64\n",
              "id       float64\n",
              "dtype: object"
            ]
          },
          "metadata": {},
          "execution_count": 11
        }
      ]
    },
    {
      "cell_type": "code",
      "metadata": {
        "id": "KOgHEpu9qul3"
      },
      "source": [
        "def date_features(df):\n",
        "  df['date'] = pd.to_datetime(df['date'],infer_datetime_format=True) #chuyển đổi thành kiểu datetime\n",
        "  df['year'] = df['date'].dt.year #năm\n",
        "  df['month'] = df['date'].dt.month# tháng\n",
        "  df['day'] = df['date'].dt.dayofweek #ngày của tuần\n",
        "  df['quarter'] = df['date'].dt.quarter #tuần trong tháng\n",
        "  df['weekofyear'] = df['date'].dt.weekofyear #tuần của năm\n",
        "\n",
        "  return df\n"
      ],
      "execution_count": 12,
      "outputs": []
    },
    {
      "cell_type": "markdown",
      "metadata": {
        "id": "JxxRdo2O5bEv"
      },
      "source": [
        "#Biểu diễn 1 số biểu đồ"
      ]
    },
    {
      "cell_type": "code",
      "metadata": {
        "colab": {
          "base_uri": "https://localhost:8080/",
          "height": 461
        },
        "id": "OrLOiHoO31ST",
        "outputId": "7a979b48-3d69-4c20-bc13-900c5bc45471"
      },
      "source": [
        "date_features(train111)\n",
        "train111"
      ],
      "execution_count": 13,
      "outputs": [
        {
          "output_type": "stream",
          "name": "stderr",
          "text": [
            "/usr/local/lib/python3.7/dist-packages/ipykernel_launcher.py:7: FutureWarning: Series.dt.weekofyear and Series.dt.week have been deprecated.  Please use Series.dt.isocalendar().week instead.\n",
            "  import sys\n"
          ]
        },
        {
          "output_type": "execute_result",
          "data": {
            "text/html": [
              "<div>\n",
              "<style scoped>\n",
              "    .dataframe tbody tr th:only-of-type {\n",
              "        vertical-align: middle;\n",
              "    }\n",
              "\n",
              "    .dataframe tbody tr th {\n",
              "        vertical-align: top;\n",
              "    }\n",
              "\n",
              "    .dataframe thead th {\n",
              "        text-align: right;\n",
              "    }\n",
              "</style>\n",
              "<table border=\"1\" class=\"dataframe\">\n",
              "  <thead>\n",
              "    <tr style=\"text-align: right;\">\n",
              "      <th></th>\n",
              "      <th>date</th>\n",
              "      <th>store</th>\n",
              "      <th>item</th>\n",
              "      <th>sales</th>\n",
              "      <th>year</th>\n",
              "      <th>month</th>\n",
              "      <th>day</th>\n",
              "      <th>quarter</th>\n",
              "      <th>weekofyear</th>\n",
              "    </tr>\n",
              "  </thead>\n",
              "  <tbody>\n",
              "    <tr>\n",
              "      <th>0</th>\n",
              "      <td>2013-01-01</td>\n",
              "      <td>1</td>\n",
              "      <td>1</td>\n",
              "      <td>13</td>\n",
              "      <td>2013</td>\n",
              "      <td>1</td>\n",
              "      <td>1</td>\n",
              "      <td>1</td>\n",
              "      <td>1</td>\n",
              "    </tr>\n",
              "    <tr>\n",
              "      <th>1</th>\n",
              "      <td>2013-01-02</td>\n",
              "      <td>1</td>\n",
              "      <td>1</td>\n",
              "      <td>11</td>\n",
              "      <td>2013</td>\n",
              "      <td>1</td>\n",
              "      <td>2</td>\n",
              "      <td>1</td>\n",
              "      <td>1</td>\n",
              "    </tr>\n",
              "    <tr>\n",
              "      <th>2</th>\n",
              "      <td>2013-01-03</td>\n",
              "      <td>1</td>\n",
              "      <td>1</td>\n",
              "      <td>14</td>\n",
              "      <td>2013</td>\n",
              "      <td>1</td>\n",
              "      <td>3</td>\n",
              "      <td>1</td>\n",
              "      <td>1</td>\n",
              "    </tr>\n",
              "    <tr>\n",
              "      <th>3</th>\n",
              "      <td>2013-01-04</td>\n",
              "      <td>1</td>\n",
              "      <td>1</td>\n",
              "      <td>13</td>\n",
              "      <td>2013</td>\n",
              "      <td>1</td>\n",
              "      <td>4</td>\n",
              "      <td>1</td>\n",
              "      <td>1</td>\n",
              "    </tr>\n",
              "    <tr>\n",
              "      <th>4</th>\n",
              "      <td>2013-01-05</td>\n",
              "      <td>1</td>\n",
              "      <td>1</td>\n",
              "      <td>10</td>\n",
              "      <td>2013</td>\n",
              "      <td>1</td>\n",
              "      <td>5</td>\n",
              "      <td>1</td>\n",
              "      <td>1</td>\n",
              "    </tr>\n",
              "    <tr>\n",
              "      <th>...</th>\n",
              "      <td>...</td>\n",
              "      <td>...</td>\n",
              "      <td>...</td>\n",
              "      <td>...</td>\n",
              "      <td>...</td>\n",
              "      <td>...</td>\n",
              "      <td>...</td>\n",
              "      <td>...</td>\n",
              "      <td>...</td>\n",
              "    </tr>\n",
              "    <tr>\n",
              "      <th>912995</th>\n",
              "      <td>2017-12-27</td>\n",
              "      <td>10</td>\n",
              "      <td>50</td>\n",
              "      <td>63</td>\n",
              "      <td>2017</td>\n",
              "      <td>12</td>\n",
              "      <td>2</td>\n",
              "      <td>4</td>\n",
              "      <td>52</td>\n",
              "    </tr>\n",
              "    <tr>\n",
              "      <th>912996</th>\n",
              "      <td>2017-12-28</td>\n",
              "      <td>10</td>\n",
              "      <td>50</td>\n",
              "      <td>59</td>\n",
              "      <td>2017</td>\n",
              "      <td>12</td>\n",
              "      <td>3</td>\n",
              "      <td>4</td>\n",
              "      <td>52</td>\n",
              "    </tr>\n",
              "    <tr>\n",
              "      <th>912997</th>\n",
              "      <td>2017-12-29</td>\n",
              "      <td>10</td>\n",
              "      <td>50</td>\n",
              "      <td>74</td>\n",
              "      <td>2017</td>\n",
              "      <td>12</td>\n",
              "      <td>4</td>\n",
              "      <td>4</td>\n",
              "      <td>52</td>\n",
              "    </tr>\n",
              "    <tr>\n",
              "      <th>912998</th>\n",
              "      <td>2017-12-30</td>\n",
              "      <td>10</td>\n",
              "      <td>50</td>\n",
              "      <td>62</td>\n",
              "      <td>2017</td>\n",
              "      <td>12</td>\n",
              "      <td>5</td>\n",
              "      <td>4</td>\n",
              "      <td>52</td>\n",
              "    </tr>\n",
              "    <tr>\n",
              "      <th>912999</th>\n",
              "      <td>2017-12-31</td>\n",
              "      <td>10</td>\n",
              "      <td>50</td>\n",
              "      <td>82</td>\n",
              "      <td>2017</td>\n",
              "      <td>12</td>\n",
              "      <td>6</td>\n",
              "      <td>4</td>\n",
              "      <td>52</td>\n",
              "    </tr>\n",
              "  </tbody>\n",
              "</table>\n",
              "<p>913000 rows × 9 columns</p>\n",
              "</div>"
            ],
            "text/plain": [
              "             date  store  item  sales  year  month  day  quarter  weekofyear\n",
              "0      2013-01-01      1     1     13  2013      1    1        1           1\n",
              "1      2013-01-02      1     1     11  2013      1    2        1           1\n",
              "2      2013-01-03      1     1     14  2013      1    3        1           1\n",
              "3      2013-01-04      1     1     13  2013      1    4        1           1\n",
              "4      2013-01-05      1     1     10  2013      1    5        1           1\n",
              "...           ...    ...   ...    ...   ...    ...  ...      ...         ...\n",
              "912995 2017-12-27     10    50     63  2017     12    2        4          52\n",
              "912996 2017-12-28     10    50     59  2017     12    3        4          52\n",
              "912997 2017-12-29     10    50     74  2017     12    4        4          52\n",
              "912998 2017-12-30     10    50     62  2017     12    5        4          52\n",
              "912999 2017-12-31     10    50     82  2017     12    6        4          52\n",
              "\n",
              "[913000 rows x 9 columns]"
            ]
          },
          "metadata": {},
          "execution_count": 13
        }
      ]
    },
    {
      "cell_type": "markdown",
      "metadata": {
        "id": "QjNsY4LIxDWL"
      },
      "source": [
        "# Tổng doanh thu(sales) của 10 store từ năm 2013 đến cuối năm 2017 trong tập train"
      ]
    },
    {
      "cell_type": "code",
      "metadata": {
        "colab": {
          "base_uri": "https://localhost:8080/",
          "height": 282
        },
        "id": "uHMgLsWBwvf_",
        "outputId": "6780cb7b-0f01-427e-ef84-6e539025aeb0"
      },
      "source": [
        "for i in range(1,11): # 12 tháng\n",
        "    month_df = train111[train111.store==i].resample('M',on='date').sum()\n",
        "    x= np.array(month_df.index) # trục hoành biểu thị cho các tháng\n",
        "    y= np.array(month_df.sales) # trục tung thể hiện sales( doanh thu )\n",
        "    plt.plot(x,y,label = 'store %s' % i)\n",
        "plt.legend(loc='center left', bbox_to_anchor=(1, 0.5))\n",
        "plt.title(\"Doanh số theo tháng\")\n",
        "plt.show()"
      ],
      "execution_count": 14,
      "outputs": [
        {
          "output_type": "display_data",
          "data": {
            "image/png": "[encoded data removed]",
            "text/plain": [
              "<Figure size 432x288 with 1 Axes>"
            ]
          },
          "metadata": {
            "needs_background": "light"
          }
        }
      ]
    },
    {
      "cell_type": "markdown",
      "metadata": {
        "id": "LT4x-zxwxhZt"
      },
      "source": [
        "# Heatmap: Biểu diễn sales của từng store với từng item trong 5 năm của tập train."
      ]
    },
    {
      "cell_type": "code",
      "metadata": {
        "colab": {
          "base_uri": "https://localhost:8080/",
          "height": 227
        },
        "id": "Gz7hua5pw_VC",
        "outputId": "2e9032e0-83f8-46d9-8a67-daa8326b456e"
      },
      "source": [
        "#gom nhóm theo store cà item và tính tổng cho sales\n",
        "store_item_c = train111.groupby(['store','item'])['sales'].sum()\n",
        "matrixStoreItem = np.zeros((10,50))\n",
        "for i in range(1,11):\n",
        "    for j in range(1,51):\n",
        "        matrixStoreItem[i-1,j-1] = store_item_c.loc[i,j]\n",
        "\n",
        "plt.figure(figsize=(50,10))\n",
        "ax = sns.heatmap(matrixStoreItem,cmap='Blues')\n",
        "plt.xlabel(\"Item\",fontsize = 25)\n",
        "plt.ylabel(\"Store\",fontsize=25)\n",
        "plt.title(\"Store/ Item sales heatmap\",fontsize=35)"
      ],
      "execution_count": 15,
      "outputs": [
        {
          "output_type": "execute_result",
          "data": {
            "text/plain": [
              "Text(0.5, 1.0, 'Store/ Item sales heatmap')"
            ]
          },
          "metadata": {},
          "execution_count": 15
        },
        {
          "output_type": "display_data",
          "data": {
            "image/png": "[encoded data removed]",
            "text/plain": [
              "<Figure size 3600x720 with 2 Axes>"
            ]
          },
          "metadata": {
            "needs_background": "light"
          }
        }
      ]
    },
    {
      "cell_type": "code",
      "metadata": {
        "colab": {
          "base_uri": "https://localhost:8080/"
        },
        "id": "cKbJkKhjw_X7",
        "outputId": "76d3a878-7aca-4b36-e254-1d2ab9ac74f2"
      },
      "source": [
        "# đối với từng cửa hàng sales của từng item trong cửa hàng đó.\n",
        "print(store_item_c)"
      ],
      "execution_count": 16,
      "outputs": [
        {
          "output_type": "stream",
          "name": "stdout",
          "text": [
            "store  item\n",
            "1      1        36468\n",
            "       2        97050\n",
            "       3        60638\n",
            "       4        36440\n",
            "       5        30335\n",
            "                ...  \n",
            "10     46      120601\n",
            "       47       45204\n",
            "       48      105570\n",
            "       49       60317\n",
            "       50      135192\n",
            "Name: sales, Length: 500, dtype: int64\n"
          ]
        }
      ]
    },
    {
      "cell_type": "markdown",
      "metadata": {
        "id": "hLOQqfeixr9L"
      },
      "source": [
        "# Trung bình doanh thu của các items"
      ]
    },
    {
      "cell_type": "code",
      "metadata": {
        "colab": {
          "base_uri": "https://localhost:8080/",
          "height": 430
        },
        "id": "7lizQDuew_av",
        "outputId": "9382c2bf-8a97-4ee9-8bd1-9886dc20078a"
      },
      "source": [
        "plt.close('all')\n",
        "item_df = train111.groupby(['item']).mean()\n",
        "item_df.sort_values('sales',ascending=True,inplace=True)\n",
        "x = item_df.index\n",
        "y = item_df.sales\n",
        "plt.figure(figsize=(20,10))\n",
        "sns.barplot(x=x, y=y, order=x)\n",
        "plt.xlabel(\"item\",fontsize = 25)\n",
        "plt.ylabel(\"Mean sales\",fontsize=25)\n",
        "plt.title(\"Trung bình doanh thu của 50 items\",fontsize=35)\n",
        "plt.show()"
      ],
      "execution_count": 17,
      "outputs": [
        {
          "output_type": "display_data",
          "data": {
            "image/png": "[encoded data removed]",
            "text/plain": [
              "<Figure size 1440x720 with 1 Axes>"
            ]
          },
          "metadata": {
            "needs_background": "light"
          }
        }
      ]
    },
    {
      "cell_type": "code",
      "metadata": {
        "colab": {
          "base_uri": "https://localhost:8080/",
          "height": 350
        },
        "id": "hrwGDjDjwvwQ",
        "outputId": "b91b3aff-0872-47f7-aa2f-18e70cfc7b20"
      },
      "source": [
        "agg_year_item = pd.pivot_table(train111, index='year', columns='item',\n",
        "                               values='sales', aggfunc=np.mean).values\n",
        "agg_year_store = pd.pivot_table(train111, index='year', columns='store',\n",
        "                                values='sales', aggfunc=np.mean).values\n",
        "\n",
        "plt.figure(figsize=(12, 5))\n",
        "plt.subplot(121)\n",
        "plt.plot(agg_year_item / agg_year_item.mean(0)[np.newaxis])\n",
        "plt.title(\"Items\")\n",
        "plt.xlabel(\"Year\")\n",
        "plt.ylabel(\"Relative Sales\")\n",
        "plt.subplot(122)\n",
        "plt.plot(agg_year_store / agg_year_store.mean(0)[np.newaxis])\n",
        "plt.title(\"Stores\")\n",
        "plt.xlabel(\"Year\")\n",
        "plt.ylabel(\"Relative Sales\")\n",
        "plt.show()"
      ],
      "execution_count": 18,
      "outputs": [
        {
          "output_type": "display_data",
          "data": {
            "image/png": "[encoded data removed]",
            "text/plain": [
              "<Figure size 864x360 with 2 Axes>"
            ]
          },
          "metadata": {
            "needs_background": "light"
          }
        }
      ]
    },
    {
      "cell_type": "markdown",
      "metadata": {
        "id": "Vj2GqcBl5zxs"
      },
      "source": [
        "# Qua 2 biểu đồ trên: cho thấy các item và store dường như đều có mức tăng trưởng doanh thu tương tự nhau (sales) trong những năm của tập train."
      ]
    },
    {
      "cell_type": "code",
      "metadata": {
        "colab": {
          "base_uri": "https://localhost:8080/",
          "height": 350
        },
        "id": "0p94sTi9yvCE",
        "outputId": "b688b3aa-d238-40e9-e105-8aa3276fcff7"
      },
      "source": [
        "#tương tự với tháng\n",
        "agg_month_item = pd.pivot_table(train111, index='month', columns='item',\n",
        "                                values='sales', aggfunc=np.mean).values\n",
        "agg_month_store = pd.pivot_table(train111, index='month', columns='store',\n",
        "                                 values='sales', aggfunc=np.mean).values\n",
        "\n",
        "plt.figure(figsize=(12, 5))\n",
        "plt.subplot(121)\n",
        "plt.plot(agg_month_item / agg_month_item.mean(0)[np.newaxis])\n",
        "plt.title(\"items\")\n",
        "plt.xlabel(\"month\")\n",
        "plt.ylabel(\"Relative Sales\")\n",
        "plt.subplot(122)\n",
        "plt.plot(agg_month_store / agg_month_store.mean(0)[np.newaxis])\n",
        "plt.title(\"stores\")\n",
        "plt.xlabel(\"month\")\n",
        "plt.ylabel(\"Relative Sales\")\n",
        "plt.show()\n"
      ],
      "execution_count": 19,
      "outputs": [
        {
          "output_type": "display_data",
          "data": {
            "image/png": "[encoded data removed]",
            "text/plain": [
              "<Figure size 864x360 with 2 Axes>"
            ]
          },
          "metadata": {
            "needs_background": "light"
          }
        }
      ]
    },
    {
      "cell_type": "markdown",
      "metadata": {
        "id": "bpAcbxwo6AeB"
      },
      "source": [
        "# Biểu đồ theo tháng ở trên cũng có mô hình tăng tăng trưởng doanh thu tương tự nhau của stores và items"
      ]
    },
    {
      "cell_type": "code",
      "metadata": {
        "colab": {
          "base_uri": "https://localhost:8080/",
          "height": 350
        },
        "id": "GY8udiD-yvFA",
        "outputId": "f040c2ab-e7df-4451-e5e6-3d93a1e3cfcb"
      },
      "source": [
        "train111['dayofweek'] = train111.date.dt.dayofweek # ngày của tuần\n",
        "agg_dow_item = pd.pivot_table(train111, index='dayofweek', columns='item',\n",
        "                              values='sales', aggfunc=np.mean).values\n",
        "agg_dow_store = pd.pivot_table(train111, index='dayofweek', columns='store',\n",
        "                               values='sales', aggfunc=np.mean).values\n",
        "\n",
        "plt.figure(figsize=(12, 5))\n",
        "plt.subplot(121)\n",
        "plt.plot(agg_dow_item / agg_dow_item.mean(0)[np.newaxis])\n",
        "plt.title(\"Items\")\n",
        "plt.xlabel(\"Day of Week\")\n",
        "plt.ylabel(\"Relative Sales\")\n",
        "plt.subplot(122)\n",
        "plt.plot(agg_dow_store / agg_dow_store.mean(0)[np.newaxis])\n",
        "plt.title(\"Stores\")\n",
        "plt.xlabel(\"Day of Week\")\n",
        "plt.ylabel(\"Relative Sales\")\n",
        "plt.show()"
      ],
      "execution_count": 20,
      "outputs": [
        {
          "output_type": "display_data",
          "data": {
            "image/png": "[encoded data removed]",
            "text/plain": [
              "<Figure size 864x360 with 2 Axes>"
            ]
          },
          "metadata": {
            "needs_background": "light"
          }
        }
      ]
    },
    {
      "cell_type": "markdown",
      "metadata": {
        "id": "ZuPtyjGM6cPN"
      },
      "source": [
        "# 2 biểu đồ trên cũng cho thấy tăng trưởng theo day of week cũng tương tự nhau"
      ]
    },
    {
      "cell_type": "code",
      "metadata": {
        "colab": {
          "base_uri": "https://localhost:8080/",
          "height": 257
        },
        "id": "omgGLWDUyvH8",
        "outputId": "5e2db237-1daa-47e2-8b0e-2a14a45e6664"
      },
      "source": [
        "agg_dayofweek_month = pd.pivot_table(train111, index='dayofweek', columns='month',\n",
        "                               values='sales', aggfunc=np.mean).values\n",
        "agg_month_year = pd.pivot_table(train111, index='month', columns='year',\n",
        "                                values='sales', aggfunc=np.mean).values\n",
        "agg_dayofweek_year = pd.pivot_table(train111, index='dayofweek', columns='year',\n",
        "                              values='sales', aggfunc=np.mean).values\n",
        "\n",
        "plt.figure(figsize=(18, 5))\n",
        "plt.subplot(131)\n",
        "plt.plot(agg_dayofweek_month / agg_dayofweek_month.mean(0)[np.newaxis])\n",
        "plt.title(\"Months\")\n",
        "plt.xlabel(\"Day of Week\")\n",
        "plt.ylabel(\"Relative Sales\")\n",
        "plt.subplot(132)\n",
        "plt.plot(agg_month_year / agg_month_year.mean(0)[np.newaxis])\n",
        "plt.title(\"Years\")\n",
        "plt.xlabel(\"Months\")\n",
        "plt.ylabel(\"Relative Sales\")\n",
        "plt.subplot(133)\n",
        "plt.plot(agg_dayofweek_year / agg_dayofweek_year.mean(0)[np.newaxis])\n",
        "plt.title(\"Years\")\n",
        "plt.xlabel(\"Day of Week\")\n",
        "plt.ylabel(\"Relative Sales\")\n",
        "plt.show()"
      ],
      "execution_count": 21,
      "outputs": [
        {
          "output_type": "display_data",
          "data": {
            "image/png": "[encoded data removed]",
            "text/plain": [
              "<Figure size 1296x360 with 3 Axes>"
            ]
          },
          "metadata": {
            "needs_background": "light"
          }
        }
      ]
    },
    {
      "cell_type": "markdown",
      "metadata": {
        "id": "IEb-0r8b6l9I"
      },
      "source": [
        "# Ba biểu đồ trên cho thấy cuối tuần của tháng và năm: doanh số có tăng lên nhiều, doanh thu đạt đỉnh có vẻ vào khoảng tháng 7"
      ]
    },
    {
      "cell_type": "code",
      "metadata": {
        "id": "lBix9Srbwv2L"
      },
      "source": [
        "#========================================="
      ],
      "execution_count": 22,
      "outputs": []
    },
    {
      "cell_type": "code",
      "metadata": {
        "colab": {
          "base_uri": "https://localhost:8080/"
        },
        "id": "pj-7yZwy7uxy",
        "outputId": "8f3cabba-6e73-4bc1-aec2-2518646dafad"
      },
      "source": [
        "# add columns: date related\n",
        "two_df['date'] = pd.to_datetime(two_df['date'],infer_datetime_format=True) #chuyển đổi thành kiểu datetime\n",
        "two_df['year'] = two_df['date'].dt.year #năm\n",
        "two_df['month'] = two_df['date'].dt.month# tháng\n",
        "two_df['day'] = two_df['date'].dt.dayofweek #ngày của tuần\n",
        "two_df['quarter'] = two_df['date'].dt.quarter\n",
        "two_df['weekofyear'] = two_df['date'].dt.weekofyear #tuần của năm\n"
      ],
      "execution_count": 23,
      "outputs": [
        {
          "output_type": "stream",
          "name": "stderr",
          "text": [
            "/usr/local/lib/python3.7/dist-packages/ipykernel_launcher.py:7: FutureWarning: Series.dt.weekofyear and Series.dt.week have been deprecated.  Please use Series.dt.isocalendar().week instead.\n",
            "  import sys\n"
          ]
        }
      ]
    },
    {
      "cell_type": "code",
      "metadata": {
        "id": "vBPYHgqptMik"
      },
      "source": [
        "#xóa bỏ cột date sau khi xử lý xog\n",
        "two_df.drop('date', axis=1, inplace=True)"
      ],
      "execution_count": 24,
      "outputs": []
    },
    {
      "cell_type": "markdown",
      "metadata": {
        "id": "sDoXVop36xyB"
      },
      "source": [
        "# Thêm các cột được tách của tập two_df vào tập train"
      ]
    },
    {
      "cell_type": "code",
      "metadata": {
        "id": "MYJNoXW7wv8F"
      },
      "source": [
        "train=pd.DataFrame(two_df[two_df.sales.notna()].values) #lấy giá trị của các phần tử\n",
        "train.columns=two_df.columns"
      ],
      "execution_count": 25,
      "outputs": []
    },
    {
      "cell_type": "code",
      "metadata": {
        "colab": {
          "base_uri": "https://localhost:8080/",
          "height": 408
        },
        "id": "VuHzcVB-5Nre",
        "outputId": "ac4adecb-8e2b-4181-f07e-87a469da9969"
      },
      "source": [
        "train"
      ],
      "execution_count": 26,
      "outputs": [
        {
          "output_type": "execute_result",
          "data": {
            "text/html": [
              "<div>\n",
              "<style scoped>\n",
              "    .dataframe tbody tr th:only-of-type {\n",
              "        vertical-align: middle;\n",
              "    }\n",
              "\n",
              "    .dataframe tbody tr th {\n",
              "        vertical-align: top;\n",
              "    }\n",
              "\n",
              "    .dataframe thead th {\n",
              "        text-align: right;\n",
              "    }\n",
              "</style>\n",
              "<table border=\"1\" class=\"dataframe\">\n",
              "  <thead>\n",
              "    <tr style=\"text-align: right;\">\n",
              "      <th></th>\n",
              "      <th>store</th>\n",
              "      <th>item</th>\n",
              "      <th>sales</th>\n",
              "      <th>id</th>\n",
              "      <th>year</th>\n",
              "      <th>month</th>\n",
              "      <th>day</th>\n",
              "      <th>quarter</th>\n",
              "      <th>weekofyear</th>\n",
              "    </tr>\n",
              "  </thead>\n",
              "  <tbody>\n",
              "    <tr>\n",
              "      <th>0</th>\n",
              "      <td>1.0</td>\n",
              "      <td>1.0</td>\n",
              "      <td>13.0</td>\n",
              "      <td>NaN</td>\n",
              "      <td>2013.0</td>\n",
              "      <td>1.0</td>\n",
              "      <td>1.0</td>\n",
              "      <td>1.0</td>\n",
              "      <td>1.0</td>\n",
              "    </tr>\n",
              "    <tr>\n",
              "      <th>1</th>\n",
              "      <td>1.0</td>\n",
              "      <td>1.0</td>\n",
              "      <td>11.0</td>\n",
              "      <td>NaN</td>\n",
              "      <td>2013.0</td>\n",
              "      <td>1.0</td>\n",
              "      <td>2.0</td>\n",
              "      <td>1.0</td>\n",
              "      <td>1.0</td>\n",
              "    </tr>\n",
              "    <tr>\n",
              "      <th>2</th>\n",
              "      <td>1.0</td>\n",
              "      <td>1.0</td>\n",
              "      <td>14.0</td>\n",
              "      <td>NaN</td>\n",
              "      <td>2013.0</td>\n",
              "      <td>1.0</td>\n",
              "      <td>3.0</td>\n",
              "      <td>1.0</td>\n",
              "      <td>1.0</td>\n",
              "    </tr>\n",
              "    <tr>\n",
              "      <th>3</th>\n",
              "      <td>1.0</td>\n",
              "      <td>1.0</td>\n",
              "      <td>13.0</td>\n",
              "      <td>NaN</td>\n",
              "      <td>2013.0</td>\n",
              "      <td>1.0</td>\n",
              "      <td>4.0</td>\n",
              "      <td>1.0</td>\n",
              "      <td>1.0</td>\n",
              "    </tr>\n",
              "    <tr>\n",
              "      <th>4</th>\n",
              "      <td>1.0</td>\n",
              "      <td>1.0</td>\n",
              "      <td>10.0</td>\n",
              "      <td>NaN</td>\n",
              "      <td>2013.0</td>\n",
              "      <td>1.0</td>\n",
              "      <td>5.0</td>\n",
              "      <td>1.0</td>\n",
              "      <td>1.0</td>\n",
              "    </tr>\n",
              "    <tr>\n",
              "      <th>...</th>\n",
              "      <td>...</td>\n",
              "      <td>...</td>\n",
              "      <td>...</td>\n",
              "      <td>...</td>\n",
              "      <td>...</td>\n",
              "      <td>...</td>\n",
              "      <td>...</td>\n",
              "      <td>...</td>\n",
              "      <td>...</td>\n",
              "    </tr>\n",
              "    <tr>\n",
              "      <th>912995</th>\n",
              "      <td>10.0</td>\n",
              "      <td>50.0</td>\n",
              "      <td>63.0</td>\n",
              "      <td>NaN</td>\n",
              "      <td>2017.0</td>\n",
              "      <td>12.0</td>\n",
              "      <td>2.0</td>\n",
              "      <td>4.0</td>\n",
              "      <td>52.0</td>\n",
              "    </tr>\n",
              "    <tr>\n",
              "      <th>912996</th>\n",
              "      <td>10.0</td>\n",
              "      <td>50.0</td>\n",
              "      <td>59.0</td>\n",
              "      <td>NaN</td>\n",
              "      <td>2017.0</td>\n",
              "      <td>12.0</td>\n",
              "      <td>3.0</td>\n",
              "      <td>4.0</td>\n",
              "      <td>52.0</td>\n",
              "    </tr>\n",
              "    <tr>\n",
              "      <th>912997</th>\n",
              "      <td>10.0</td>\n",
              "      <td>50.0</td>\n",
              "      <td>74.0</td>\n",
              "      <td>NaN</td>\n",
              "      <td>2017.0</td>\n",
              "      <td>12.0</td>\n",
              "      <td>4.0</td>\n",
              "      <td>4.0</td>\n",
              "      <td>52.0</td>\n",
              "    </tr>\n",
              "    <tr>\n",
              "      <th>912998</th>\n",
              "      <td>10.0</td>\n",
              "      <td>50.0</td>\n",
              "      <td>62.0</td>\n",
              "      <td>NaN</td>\n",
              "      <td>2017.0</td>\n",
              "      <td>12.0</td>\n",
              "      <td>5.0</td>\n",
              "      <td>4.0</td>\n",
              "      <td>52.0</td>\n",
              "    </tr>\n",
              "    <tr>\n",
              "      <th>912999</th>\n",
              "      <td>10.0</td>\n",
              "      <td>50.0</td>\n",
              "      <td>82.0</td>\n",
              "      <td>NaN</td>\n",
              "      <td>2017.0</td>\n",
              "      <td>12.0</td>\n",
              "      <td>6.0</td>\n",
              "      <td>4.0</td>\n",
              "      <td>52.0</td>\n",
              "    </tr>\n",
              "  </tbody>\n",
              "</table>\n",
              "<p>913000 rows × 9 columns</p>\n",
              "</div>"
            ],
            "text/plain": [
              "        store  item  sales  id    year  month  day  quarter  weekofyear\n",
              "0         1.0   1.0   13.0 NaN  2013.0    1.0  1.0      1.0         1.0\n",
              "1         1.0   1.0   11.0 NaN  2013.0    1.0  2.0      1.0         1.0\n",
              "2         1.0   1.0   14.0 NaN  2013.0    1.0  3.0      1.0         1.0\n",
              "3         1.0   1.0   13.0 NaN  2013.0    1.0  4.0      1.0         1.0\n",
              "4         1.0   1.0   10.0 NaN  2013.0    1.0  5.0      1.0         1.0\n",
              "...       ...   ...    ...  ..     ...    ...  ...      ...         ...\n",
              "912995   10.0  50.0   63.0 NaN  2017.0   12.0  2.0      4.0        52.0\n",
              "912996   10.0  50.0   59.0 NaN  2017.0   12.0  3.0      4.0        52.0\n",
              "912997   10.0  50.0   74.0 NaN  2017.0   12.0  4.0      4.0        52.0\n",
              "912998   10.0  50.0   62.0 NaN  2017.0   12.0  5.0      4.0        52.0\n",
              "912999   10.0  50.0   82.0 NaN  2017.0   12.0  6.0      4.0        52.0\n",
              "\n",
              "[913000 rows x 9 columns]"
            ]
          },
          "metadata": {},
          "execution_count": 26
        }
      ]
    },
    {
      "cell_type": "code",
      "metadata": {
        "colab": {
          "base_uri": "https://localhost:8080/"
        },
        "id": "P-GoF-ONhzH6",
        "outputId": "ec2d8084-974a-4804-9d10-8259fe1f860a"
      },
      "source": [
        "#kiểm tra NaN\n",
        "train_nan= train.isna()\n",
        "train_sum_nan = train_nan.sum()\n",
        "train_sum_nan"
      ],
      "execution_count": 27,
      "outputs": [
        {
          "output_type": "execute_result",
          "data": {
            "text/plain": [
              "store              0\n",
              "item               0\n",
              "sales              0\n",
              "id            913000\n",
              "year               0\n",
              "month              0\n",
              "day                0\n",
              "quarter            0\n",
              "weekofyear         0\n",
              "dtype: int64"
            ]
          },
          "metadata": {},
          "execution_count": 27
        }
      ]
    },
    {
      "cell_type": "markdown",
      "metadata": {
        "id": "tAvFU8JlvjS0"
      },
      "source": [
        "#Thêm 1 cột target = cột sales"
      ]
    },
    {
      "cell_type": "code",
      "metadata": {
        "id": "20ax9khkveZ5"
      },
      "source": [
        "train['target']=train['sales'] "
      ],
      "execution_count": 28,
      "outputs": []
    },
    {
      "cell_type": "code",
      "metadata": {
        "colab": {
          "base_uri": "https://localhost:8080/",
          "height": 408
        },
        "id": "ATmmd3VXtfQh",
        "outputId": "f16b32f3-fadf-4755-e304-6f2c2c39f47d"
      },
      "source": [
        "train"
      ],
      "execution_count": 29,
      "outputs": [
        {
          "output_type": "execute_result",
          "data": {
            "text/html": [
              "<div>\n",
              "<style scoped>\n",
              "    .dataframe tbody tr th:only-of-type {\n",
              "        vertical-align: middle;\n",
              "    }\n",
              "\n",
              "    .dataframe tbody tr th {\n",
              "        vertical-align: top;\n",
              "    }\n",
              "\n",
              "    .dataframe thead th {\n",
              "        text-align: right;\n",
              "    }\n",
              "</style>\n",
              "<table border=\"1\" class=\"dataframe\">\n",
              "  <thead>\n",
              "    <tr style=\"text-align: right;\">\n",
              "      <th></th>\n",
              "      <th>store</th>\n",
              "      <th>item</th>\n",
              "      <th>sales</th>\n",
              "      <th>id</th>\n",
              "      <th>year</th>\n",
              "      <th>month</th>\n",
              "      <th>day</th>\n",
              "      <th>quarter</th>\n",
              "      <th>weekofyear</th>\n",
              "      <th>target</th>\n",
              "    </tr>\n",
              "  </thead>\n",
              "  <tbody>\n",
              "    <tr>\n",
              "      <th>0</th>\n",
              "      <td>1.0</td>\n",
              "      <td>1.0</td>\n",
              "      <td>13.0</td>\n",
              "      <td>NaN</td>\n",
              "      <td>2013.0</td>\n",
              "      <td>1.0</td>\n",
              "      <td>1.0</td>\n",
              "      <td>1.0</td>\n",
              "      <td>1.0</td>\n",
              "      <td>13.0</td>\n",
              "    </tr>\n",
              "    <tr>\n",
              "      <th>1</th>\n",
              "      <td>1.0</td>\n",
              "      <td>1.0</td>\n",
              "      <td>11.0</td>\n",
              "      <td>NaN</td>\n",
              "      <td>2013.0</td>\n",
              "      <td>1.0</td>\n",
              "      <td>2.0</td>\n",
              "      <td>1.0</td>\n",
              "      <td>1.0</td>\n",
              "      <td>11.0</td>\n",
              "    </tr>\n",
              "    <tr>\n",
              "      <th>2</th>\n",
              "      <td>1.0</td>\n",
              "      <td>1.0</td>\n",
              "      <td>14.0</td>\n",
              "      <td>NaN</td>\n",
              "      <td>2013.0</td>\n",
              "      <td>1.0</td>\n",
              "      <td>3.0</td>\n",
              "      <td>1.0</td>\n",
              "      <td>1.0</td>\n",
              "      <td>14.0</td>\n",
              "    </tr>\n",
              "    <tr>\n",
              "      <th>3</th>\n",
              "      <td>1.0</td>\n",
              "      <td>1.0</td>\n",
              "      <td>13.0</td>\n",
              "      <td>NaN</td>\n",
              "      <td>2013.0</td>\n",
              "      <td>1.0</td>\n",
              "      <td>4.0</td>\n",
              "      <td>1.0</td>\n",
              "      <td>1.0</td>\n",
              "      <td>13.0</td>\n",
              "    </tr>\n",
              "    <tr>\n",
              "      <th>4</th>\n",
              "      <td>1.0</td>\n",
              "      <td>1.0</td>\n",
              "      <td>10.0</td>\n",
              "      <td>NaN</td>\n",
              "      <td>2013.0</td>\n",
              "      <td>1.0</td>\n",
              "      <td>5.0</td>\n",
              "      <td>1.0</td>\n",
              "      <td>1.0</td>\n",
              "      <td>10.0</td>\n",
              "    </tr>\n",
              "    <tr>\n",
              "      <th>...</th>\n",
              "      <td>...</td>\n",
              "      <td>...</td>\n",
              "      <td>...</td>\n",
              "      <td>...</td>\n",
              "      <td>...</td>\n",
              "      <td>...</td>\n",
              "      <td>...</td>\n",
              "      <td>...</td>\n",
              "      <td>...</td>\n",
              "      <td>...</td>\n",
              "    </tr>\n",
              "    <tr>\n",
              "      <th>912995</th>\n",
              "      <td>10.0</td>\n",
              "      <td>50.0</td>\n",
              "      <td>63.0</td>\n",
              "      <td>NaN</td>\n",
              "      <td>2017.0</td>\n",
              "      <td>12.0</td>\n",
              "      <td>2.0</td>\n",
              "      <td>4.0</td>\n",
              "      <td>52.0</td>\n",
              "      <td>63.0</td>\n",
              "    </tr>\n",
              "    <tr>\n",
              "      <th>912996</th>\n",
              "      <td>10.0</td>\n",
              "      <td>50.0</td>\n",
              "      <td>59.0</td>\n",
              "      <td>NaN</td>\n",
              "      <td>2017.0</td>\n",
              "      <td>12.0</td>\n",
              "      <td>3.0</td>\n",
              "      <td>4.0</td>\n",
              "      <td>52.0</td>\n",
              "      <td>59.0</td>\n",
              "    </tr>\n",
              "    <tr>\n",
              "      <th>912997</th>\n",
              "      <td>10.0</td>\n",
              "      <td>50.0</td>\n",
              "      <td>74.0</td>\n",
              "      <td>NaN</td>\n",
              "      <td>2017.0</td>\n",
              "      <td>12.0</td>\n",
              "      <td>4.0</td>\n",
              "      <td>4.0</td>\n",
              "      <td>52.0</td>\n",
              "      <td>74.0</td>\n",
              "    </tr>\n",
              "    <tr>\n",
              "      <th>912998</th>\n",
              "      <td>10.0</td>\n",
              "      <td>50.0</td>\n",
              "      <td>62.0</td>\n",
              "      <td>NaN</td>\n",
              "      <td>2017.0</td>\n",
              "      <td>12.0</td>\n",
              "      <td>5.0</td>\n",
              "      <td>4.0</td>\n",
              "      <td>52.0</td>\n",
              "      <td>62.0</td>\n",
              "    </tr>\n",
              "    <tr>\n",
              "      <th>912999</th>\n",
              "      <td>10.0</td>\n",
              "      <td>50.0</td>\n",
              "      <td>82.0</td>\n",
              "      <td>NaN</td>\n",
              "      <td>2017.0</td>\n",
              "      <td>12.0</td>\n",
              "      <td>6.0</td>\n",
              "      <td>4.0</td>\n",
              "      <td>52.0</td>\n",
              "      <td>82.0</td>\n",
              "    </tr>\n",
              "  </tbody>\n",
              "</table>\n",
              "<p>913000 rows × 10 columns</p>\n",
              "</div>"
            ],
            "text/plain": [
              "        store  item  sales  id    year  month  day  quarter  weekofyear  target\n",
              "0         1.0   1.0   13.0 NaN  2013.0    1.0  1.0      1.0         1.0    13.0\n",
              "1         1.0   1.0   11.0 NaN  2013.0    1.0  2.0      1.0         1.0    11.0\n",
              "2         1.0   1.0   14.0 NaN  2013.0    1.0  3.0      1.0         1.0    14.0\n",
              "3         1.0   1.0   13.0 NaN  2013.0    1.0  4.0      1.0         1.0    13.0\n",
              "4         1.0   1.0   10.0 NaN  2013.0    1.0  5.0      1.0         1.0    10.0\n",
              "...       ...   ...    ...  ..     ...    ...  ...      ...         ...     ...\n",
              "912995   10.0  50.0   63.0 NaN  2017.0   12.0  2.0      4.0        52.0    63.0\n",
              "912996   10.0  50.0   59.0 NaN  2017.0   12.0  3.0      4.0        52.0    59.0\n",
              "912997   10.0  50.0   74.0 NaN  2017.0   12.0  4.0      4.0        52.0    74.0\n",
              "912998   10.0  50.0   62.0 NaN  2017.0   12.0  5.0      4.0        52.0    62.0\n",
              "912999   10.0  50.0   82.0 NaN  2017.0   12.0  6.0      4.0        52.0    82.0\n",
              "\n",
              "[913000 rows x 10 columns]"
            ]
          },
          "metadata": {},
          "execution_count": 29
        }
      ]
    },
    {
      "cell_type": "markdown",
      "metadata": {
        "id": "85fOvWRbwYir"
      },
      "source": [
        "# Hàm add_agg"
      ]
    },
    {
      "cell_type": "code",
      "metadata": {
        "id": "zdWxxqqFwG_D"
      },
      "source": [
        "def add_agg(two_df, group_cols, newcol_name, year):\n",
        "    cols2 = group_cols.copy() \n",
        "    cols2.append(newcol_name) #thêm newcol_name vào cols2\n",
        "    #gom nhóm theo 3 cột item+store+year của tập train và tính trung bình cho cột target\n",
        "    agg1 = train.groupby(group_cols)['target'].agg('mean').reset_index()\n",
        "    #gán nhãn của các cột cols2 cho agg1\n",
        "    agg1.columns = cols2\n",
        "    agg1['year']+= year #năm 2014 trở đi\n",
        "    #merge tương ứng các cột của two_df và agg1\n",
        "    two_df = pd.merge(two_df, agg1, how='left', left_on=group_cols, right_on=group_cols)\n",
        "    return two_df"
      ],
      "execution_count": 30,
      "outputs": []
    },
    {
      "cell_type": "markdown",
      "metadata": {
        "id": "LjdpQOVvwiQO"
      },
      "source": [
        "#scale cho item+store+year."
      ]
    },
    {
      "cell_type": "code",
      "metadata": {
        "id": "aqQvW9S8wvsK"
      },
      "source": [
        "two_df = add_agg(two_df,['item','store','year'], 'tsy', 1)"
      ],
      "execution_count": 31,
      "outputs": []
    },
    {
      "cell_type": "code",
      "metadata": {
        "colab": {
          "base_uri": "https://localhost:8080/",
          "height": 408
        },
        "id": "kOe6IhoTy3Me",
        "outputId": "5119cfde-bf69-40ea-a972-bf6f6b15596c"
      },
      "source": [
        "two_df"
      ],
      "execution_count": 32,
      "outputs": [
        {
          "output_type": "execute_result",
          "data": {
            "text/html": [
              "<div>\n",
              "<style scoped>\n",
              "    .dataframe tbody tr th:only-of-type {\n",
              "        vertical-align: middle;\n",
              "    }\n",
              "\n",
              "    .dataframe tbody tr th {\n",
              "        vertical-align: top;\n",
              "    }\n",
              "\n",
              "    .dataframe thead th {\n",
              "        text-align: right;\n",
              "    }\n",
              "</style>\n",
              "<table border=\"1\" class=\"dataframe\">\n",
              "  <thead>\n",
              "    <tr style=\"text-align: right;\">\n",
              "      <th></th>\n",
              "      <th>store</th>\n",
              "      <th>item</th>\n",
              "      <th>sales</th>\n",
              "      <th>id</th>\n",
              "      <th>year</th>\n",
              "      <th>month</th>\n",
              "      <th>day</th>\n",
              "      <th>quarter</th>\n",
              "      <th>weekofyear</th>\n",
              "      <th>tsy</th>\n",
              "    </tr>\n",
              "  </thead>\n",
              "  <tbody>\n",
              "    <tr>\n",
              "      <th>0</th>\n",
              "      <td>1</td>\n",
              "      <td>1</td>\n",
              "      <td>13.0</td>\n",
              "      <td>NaN</td>\n",
              "      <td>2013</td>\n",
              "      <td>1</td>\n",
              "      <td>1</td>\n",
              "      <td>1</td>\n",
              "      <td>1</td>\n",
              "      <td>NaN</td>\n",
              "    </tr>\n",
              "    <tr>\n",
              "      <th>1</th>\n",
              "      <td>1</td>\n",
              "      <td>1</td>\n",
              "      <td>11.0</td>\n",
              "      <td>NaN</td>\n",
              "      <td>2013</td>\n",
              "      <td>1</td>\n",
              "      <td>2</td>\n",
              "      <td>1</td>\n",
              "      <td>1</td>\n",
              "      <td>NaN</td>\n",
              "    </tr>\n",
              "    <tr>\n",
              "      <th>2</th>\n",
              "      <td>1</td>\n",
              "      <td>1</td>\n",
              "      <td>14.0</td>\n",
              "      <td>NaN</td>\n",
              "      <td>2013</td>\n",
              "      <td>1</td>\n",
              "      <td>3</td>\n",
              "      <td>1</td>\n",
              "      <td>1</td>\n",
              "      <td>NaN</td>\n",
              "    </tr>\n",
              "    <tr>\n",
              "      <th>3</th>\n",
              "      <td>1</td>\n",
              "      <td>1</td>\n",
              "      <td>13.0</td>\n",
              "      <td>NaN</td>\n",
              "      <td>2013</td>\n",
              "      <td>1</td>\n",
              "      <td>4</td>\n",
              "      <td>1</td>\n",
              "      <td>1</td>\n",
              "      <td>NaN</td>\n",
              "    </tr>\n",
              "    <tr>\n",
              "      <th>4</th>\n",
              "      <td>1</td>\n",
              "      <td>1</td>\n",
              "      <td>10.0</td>\n",
              "      <td>NaN</td>\n",
              "      <td>2013</td>\n",
              "      <td>1</td>\n",
              "      <td>5</td>\n",
              "      <td>1</td>\n",
              "      <td>1</td>\n",
              "      <td>NaN</td>\n",
              "    </tr>\n",
              "    <tr>\n",
              "      <th>...</th>\n",
              "      <td>...</td>\n",
              "      <td>...</td>\n",
              "      <td>...</td>\n",
              "      <td>...</td>\n",
              "      <td>...</td>\n",
              "      <td>...</td>\n",
              "      <td>...</td>\n",
              "      <td>...</td>\n",
              "      <td>...</td>\n",
              "      <td>...</td>\n",
              "    </tr>\n",
              "    <tr>\n",
              "      <th>957995</th>\n",
              "      <td>10</td>\n",
              "      <td>50</td>\n",
              "      <td>NaN</td>\n",
              "      <td>44995.0</td>\n",
              "      <td>2018</td>\n",
              "      <td>3</td>\n",
              "      <td>1</td>\n",
              "      <td>1</td>\n",
              "      <td>13</td>\n",
              "      <td>82.90411</td>\n",
              "    </tr>\n",
              "    <tr>\n",
              "      <th>957996</th>\n",
              "      <td>10</td>\n",
              "      <td>50</td>\n",
              "      <td>NaN</td>\n",
              "      <td>44996.0</td>\n",
              "      <td>2018</td>\n",
              "      <td>3</td>\n",
              "      <td>2</td>\n",
              "      <td>1</td>\n",
              "      <td>13</td>\n",
              "      <td>82.90411</td>\n",
              "    </tr>\n",
              "    <tr>\n",
              "      <th>957997</th>\n",
              "      <td>10</td>\n",
              "      <td>50</td>\n",
              "      <td>NaN</td>\n",
              "      <td>44997.0</td>\n",
              "      <td>2018</td>\n",
              "      <td>3</td>\n",
              "      <td>3</td>\n",
              "      <td>1</td>\n",
              "      <td>13</td>\n",
              "      <td>82.90411</td>\n",
              "    </tr>\n",
              "    <tr>\n",
              "      <th>957998</th>\n",
              "      <td>10</td>\n",
              "      <td>50</td>\n",
              "      <td>NaN</td>\n",
              "      <td>44998.0</td>\n",
              "      <td>2018</td>\n",
              "      <td>3</td>\n",
              "      <td>4</td>\n",
              "      <td>1</td>\n",
              "      <td>13</td>\n",
              "      <td>82.90411</td>\n",
              "    </tr>\n",
              "    <tr>\n",
              "      <th>957999</th>\n",
              "      <td>10</td>\n",
              "      <td>50</td>\n",
              "      <td>NaN</td>\n",
              "      <td>44999.0</td>\n",
              "      <td>2018</td>\n",
              "      <td>3</td>\n",
              "      <td>5</td>\n",
              "      <td>1</td>\n",
              "      <td>13</td>\n",
              "      <td>82.90411</td>\n",
              "    </tr>\n",
              "  </tbody>\n",
              "</table>\n",
              "<p>958000 rows × 10 columns</p>\n",
              "</div>"
            ],
            "text/plain": [
              "        store  item  sales       id  ...  day  quarter  weekofyear       tsy\n",
              "0           1     1   13.0      NaN  ...    1        1           1       NaN\n",
              "1           1     1   11.0      NaN  ...    2        1           1       NaN\n",
              "2           1     1   14.0      NaN  ...    3        1           1       NaN\n",
              "3           1     1   13.0      NaN  ...    4        1           1       NaN\n",
              "4           1     1   10.0      NaN  ...    5        1           1       NaN\n",
              "...       ...   ...    ...      ...  ...  ...      ...         ...       ...\n",
              "957995     10    50    NaN  44995.0  ...    1        1          13  82.90411\n",
              "957996     10    50    NaN  44996.0  ...    2        1          13  82.90411\n",
              "957997     10    50    NaN  44997.0  ...    3        1          13  82.90411\n",
              "957998     10    50    NaN  44998.0  ...    4        1          13  82.90411\n",
              "957999     10    50    NaN  44999.0  ...    5        1          13  82.90411\n",
              "\n",
              "[958000 rows x 10 columns]"
            ]
          },
          "metadata": {},
          "execution_count": 32
        }
      ]
    },
    {
      "cell_type": "code",
      "metadata": {
        "id": "BqEjfTcZzIzd"
      },
      "source": [
        "two_df['sales']/=two_df['tsy']"
      ],
      "execution_count": 33,
      "outputs": []
    },
    {
      "cell_type": "code",
      "metadata": {
        "colab": {
          "base_uri": "https://localhost:8080/",
          "height": 408
        },
        "id": "rCLeEdLzzMA-",
        "outputId": "f4ed7dc6-24c3-466b-9132-899bfc2ed1ec"
      },
      "source": [
        "two_df"
      ],
      "execution_count": 34,
      "outputs": [
        {
          "output_type": "execute_result",
          "data": {
            "text/html": [
              "<div>\n",
              "<style scoped>\n",
              "    .dataframe tbody tr th:only-of-type {\n",
              "        vertical-align: middle;\n",
              "    }\n",
              "\n",
              "    .dataframe tbody tr th {\n",
              "        vertical-align: top;\n",
              "    }\n",
              "\n",
              "    .dataframe thead th {\n",
              "        text-align: right;\n",
              "    }\n",
              "</style>\n",
              "<table border=\"1\" class=\"dataframe\">\n",
              "  <thead>\n",
              "    <tr style=\"text-align: right;\">\n",
              "      <th></th>\n",
              "      <th>store</th>\n",
              "      <th>item</th>\n",
              "      <th>sales</th>\n",
              "      <th>id</th>\n",
              "      <th>year</th>\n",
              "      <th>month</th>\n",
              "      <th>day</th>\n",
              "      <th>quarter</th>\n",
              "      <th>weekofyear</th>\n",
              "      <th>tsy</th>\n",
              "    </tr>\n",
              "  </thead>\n",
              "  <tbody>\n",
              "    <tr>\n",
              "      <th>0</th>\n",
              "      <td>1</td>\n",
              "      <td>1</td>\n",
              "      <td>NaN</td>\n",
              "      <td>NaN</td>\n",
              "      <td>2013</td>\n",
              "      <td>1</td>\n",
              "      <td>1</td>\n",
              "      <td>1</td>\n",
              "      <td>1</td>\n",
              "      <td>NaN</td>\n",
              "    </tr>\n",
              "    <tr>\n",
              "      <th>1</th>\n",
              "      <td>1</td>\n",
              "      <td>1</td>\n",
              "      <td>NaN</td>\n",
              "      <td>NaN</td>\n",
              "      <td>2013</td>\n",
              "      <td>1</td>\n",
              "      <td>2</td>\n",
              "      <td>1</td>\n",
              "      <td>1</td>\n",
              "      <td>NaN</td>\n",
              "    </tr>\n",
              "    <tr>\n",
              "      <th>2</th>\n",
              "      <td>1</td>\n",
              "      <td>1</td>\n",
              "      <td>NaN</td>\n",
              "      <td>NaN</td>\n",
              "      <td>2013</td>\n",
              "      <td>1</td>\n",
              "      <td>3</td>\n",
              "      <td>1</td>\n",
              "      <td>1</td>\n",
              "      <td>NaN</td>\n",
              "    </tr>\n",
              "    <tr>\n",
              "      <th>3</th>\n",
              "      <td>1</td>\n",
              "      <td>1</td>\n",
              "      <td>NaN</td>\n",
              "      <td>NaN</td>\n",
              "      <td>2013</td>\n",
              "      <td>1</td>\n",
              "      <td>4</td>\n",
              "      <td>1</td>\n",
              "      <td>1</td>\n",
              "      <td>NaN</td>\n",
              "    </tr>\n",
              "    <tr>\n",
              "      <th>4</th>\n",
              "      <td>1</td>\n",
              "      <td>1</td>\n",
              "      <td>NaN</td>\n",
              "      <td>NaN</td>\n",
              "      <td>2013</td>\n",
              "      <td>1</td>\n",
              "      <td>5</td>\n",
              "      <td>1</td>\n",
              "      <td>1</td>\n",
              "      <td>NaN</td>\n",
              "    </tr>\n",
              "    <tr>\n",
              "      <th>...</th>\n",
              "      <td>...</td>\n",
              "      <td>...</td>\n",
              "      <td>...</td>\n",
              "      <td>...</td>\n",
              "      <td>...</td>\n",
              "      <td>...</td>\n",
              "      <td>...</td>\n",
              "      <td>...</td>\n",
              "      <td>...</td>\n",
              "      <td>...</td>\n",
              "    </tr>\n",
              "    <tr>\n",
              "      <th>957995</th>\n",
              "      <td>10</td>\n",
              "      <td>50</td>\n",
              "      <td>NaN</td>\n",
              "      <td>44995.0</td>\n",
              "      <td>2018</td>\n",
              "      <td>3</td>\n",
              "      <td>1</td>\n",
              "      <td>1</td>\n",
              "      <td>13</td>\n",
              "      <td>82.90411</td>\n",
              "    </tr>\n",
              "    <tr>\n",
              "      <th>957996</th>\n",
              "      <td>10</td>\n",
              "      <td>50</td>\n",
              "      <td>NaN</td>\n",
              "      <td>44996.0</td>\n",
              "      <td>2018</td>\n",
              "      <td>3</td>\n",
              "      <td>2</td>\n",
              "      <td>1</td>\n",
              "      <td>13</td>\n",
              "      <td>82.90411</td>\n",
              "    </tr>\n",
              "    <tr>\n",
              "      <th>957997</th>\n",
              "      <td>10</td>\n",
              "      <td>50</td>\n",
              "      <td>NaN</td>\n",
              "      <td>44997.0</td>\n",
              "      <td>2018</td>\n",
              "      <td>3</td>\n",
              "      <td>3</td>\n",
              "      <td>1</td>\n",
              "      <td>13</td>\n",
              "      <td>82.90411</td>\n",
              "    </tr>\n",
              "    <tr>\n",
              "      <th>957998</th>\n",
              "      <td>10</td>\n",
              "      <td>50</td>\n",
              "      <td>NaN</td>\n",
              "      <td>44998.0</td>\n",
              "      <td>2018</td>\n",
              "      <td>3</td>\n",
              "      <td>4</td>\n",
              "      <td>1</td>\n",
              "      <td>13</td>\n",
              "      <td>82.90411</td>\n",
              "    </tr>\n",
              "    <tr>\n",
              "      <th>957999</th>\n",
              "      <td>10</td>\n",
              "      <td>50</td>\n",
              "      <td>NaN</td>\n",
              "      <td>44999.0</td>\n",
              "      <td>2018</td>\n",
              "      <td>3</td>\n",
              "      <td>5</td>\n",
              "      <td>1</td>\n",
              "      <td>13</td>\n",
              "      <td>82.90411</td>\n",
              "    </tr>\n",
              "  </tbody>\n",
              "</table>\n",
              "<p>958000 rows × 10 columns</p>\n",
              "</div>"
            ],
            "text/plain": [
              "        store  item  sales       id  ...  day  quarter  weekofyear       tsy\n",
              "0           1     1    NaN      NaN  ...    1        1           1       NaN\n",
              "1           1     1    NaN      NaN  ...    2        1           1       NaN\n",
              "2           1     1    NaN      NaN  ...    3        1           1       NaN\n",
              "3           1     1    NaN      NaN  ...    4        1           1       NaN\n",
              "4           1     1    NaN      NaN  ...    5        1           1       NaN\n",
              "...       ...   ...    ...      ...  ...  ...      ...         ...       ...\n",
              "957995     10    50    NaN  44995.0  ...    1        1          13  82.90411\n",
              "957996     10    50    NaN  44996.0  ...    2        1          13  82.90411\n",
              "957997     10    50    NaN  44997.0  ...    3        1          13  82.90411\n",
              "957998     10    50    NaN  44998.0  ...    4        1          13  82.90411\n",
              "957999     10    50    NaN  44999.0  ...    5        1          13  82.90411\n",
              "\n",
              "[958000 rows x 10 columns]"
            ]
          },
          "metadata": {},
          "execution_count": 34
        }
      ]
    },
    {
      "cell_type": "code",
      "metadata": {
        "colab": {
          "base_uri": "https://localhost:8080/"
        },
        "id": "WNVtwqdOh_iq",
        "outputId": "b8fd5e76-d3a6-4dd6-b335-d5f07aae3ebf"
      },
      "source": [
        "#kiểm tra NaN\n",
        "two_df_nan= two_df.isna()\n",
        "two_df_sum_nan = two_df_nan.sum()\n",
        "two_df_sum_nan"
      ],
      "execution_count": 35,
      "outputs": [
        {
          "output_type": "execute_result",
          "data": {
            "text/plain": [
              "store              0\n",
              "item               0\n",
              "sales         227500\n",
              "id            913000\n",
              "year               0\n",
              "month              0\n",
              "day                0\n",
              "quarter            0\n",
              "weekofyear         0\n",
              "tsy           182500\n",
              "dtype: int64"
            ]
          },
          "metadata": {},
          "execution_count": 35
        }
      ]
    },
    {
      "cell_type": "markdown",
      "metadata": {
        "id": "mPaoOGv5M5eR"
      },
      "source": [
        "#Sau năm 2013"
      ]
    },
    {
      "cell_type": "code",
      "metadata": {
        "id": "czHmdnCfzRxj"
      },
      "source": [
        "two_df = two_df[two_df.year>2013]"
      ],
      "execution_count": 36,
      "outputs": []
    },
    {
      "cell_type": "code",
      "metadata": {
        "colab": {
          "base_uri": "https://localhost:8080/",
          "height": 408
        },
        "id": "GbJDVCtzzVYM",
        "outputId": "ecddd5e8-09da-41c4-c442-febe17d3e438"
      },
      "source": [
        "two_df"
      ],
      "execution_count": 37,
      "outputs": [
        {
          "output_type": "execute_result",
          "data": {
            "text/html": [
              "<div>\n",
              "<style scoped>\n",
              "    .dataframe tbody tr th:only-of-type {\n",
              "        vertical-align: middle;\n",
              "    }\n",
              "\n",
              "    .dataframe tbody tr th {\n",
              "        vertical-align: top;\n",
              "    }\n",
              "\n",
              "    .dataframe thead th {\n",
              "        text-align: right;\n",
              "    }\n",
              "</style>\n",
              "<table border=\"1\" class=\"dataframe\">\n",
              "  <thead>\n",
              "    <tr style=\"text-align: right;\">\n",
              "      <th></th>\n",
              "      <th>store</th>\n",
              "      <th>item</th>\n",
              "      <th>sales</th>\n",
              "      <th>id</th>\n",
              "      <th>year</th>\n",
              "      <th>month</th>\n",
              "      <th>day</th>\n",
              "      <th>quarter</th>\n",
              "      <th>weekofyear</th>\n",
              "      <th>tsy</th>\n",
              "    </tr>\n",
              "  </thead>\n",
              "  <tbody>\n",
              "    <tr>\n",
              "      <th>365</th>\n",
              "      <td>1</td>\n",
              "      <td>1</td>\n",
              "      <td>0.545228</td>\n",
              "      <td>NaN</td>\n",
              "      <td>2014</td>\n",
              "      <td>1</td>\n",
              "      <td>2</td>\n",
              "      <td>1</td>\n",
              "      <td>1</td>\n",
              "      <td>16.506849</td>\n",
              "    </tr>\n",
              "    <tr>\n",
              "      <th>366</th>\n",
              "      <td>1</td>\n",
              "      <td>1</td>\n",
              "      <td>0.848133</td>\n",
              "      <td>NaN</td>\n",
              "      <td>2014</td>\n",
              "      <td>1</td>\n",
              "      <td>3</td>\n",
              "      <td>1</td>\n",
              "      <td>1</td>\n",
              "      <td>16.506849</td>\n",
              "    </tr>\n",
              "    <tr>\n",
              "      <th>367</th>\n",
              "      <td>1</td>\n",
              "      <td>1</td>\n",
              "      <td>0.666390</td>\n",
              "      <td>NaN</td>\n",
              "      <td>2014</td>\n",
              "      <td>1</td>\n",
              "      <td>4</td>\n",
              "      <td>1</td>\n",
              "      <td>1</td>\n",
              "      <td>16.506849</td>\n",
              "    </tr>\n",
              "    <tr>\n",
              "      <th>368</th>\n",
              "      <td>1</td>\n",
              "      <td>1</td>\n",
              "      <td>1.211618</td>\n",
              "      <td>NaN</td>\n",
              "      <td>2014</td>\n",
              "      <td>1</td>\n",
              "      <td>5</td>\n",
              "      <td>1</td>\n",
              "      <td>1</td>\n",
              "      <td>16.506849</td>\n",
              "    </tr>\n",
              "    <tr>\n",
              "      <th>369</th>\n",
              "      <td>1</td>\n",
              "      <td>1</td>\n",
              "      <td>1.029876</td>\n",
              "      <td>NaN</td>\n",
              "      <td>2014</td>\n",
              "      <td>1</td>\n",
              "      <td>6</td>\n",
              "      <td>1</td>\n",
              "      <td>1</td>\n",
              "      <td>16.506849</td>\n",
              "    </tr>\n",
              "    <tr>\n",
              "      <th>...</th>\n",
              "      <td>...</td>\n",
              "      <td>...</td>\n",
              "      <td>...</td>\n",
              "      <td>...</td>\n",
              "      <td>...</td>\n",
              "      <td>...</td>\n",
              "      <td>...</td>\n",
              "      <td>...</td>\n",
              "      <td>...</td>\n",
              "      <td>...</td>\n",
              "    </tr>\n",
              "    <tr>\n",
              "      <th>957995</th>\n",
              "      <td>10</td>\n",
              "      <td>50</td>\n",
              "      <td>NaN</td>\n",
              "      <td>44995.0</td>\n",
              "      <td>2018</td>\n",
              "      <td>3</td>\n",
              "      <td>1</td>\n",
              "      <td>1</td>\n",
              "      <td>13</td>\n",
              "      <td>82.904110</td>\n",
              "    </tr>\n",
              "    <tr>\n",
              "      <th>957996</th>\n",
              "      <td>10</td>\n",
              "      <td>50</td>\n",
              "      <td>NaN</td>\n",
              "      <td>44996.0</td>\n",
              "      <td>2018</td>\n",
              "      <td>3</td>\n",
              "      <td>2</td>\n",
              "      <td>1</td>\n",
              "      <td>13</td>\n",
              "      <td>82.904110</td>\n",
              "    </tr>\n",
              "    <tr>\n",
              "      <th>957997</th>\n",
              "      <td>10</td>\n",
              "      <td>50</td>\n",
              "      <td>NaN</td>\n",
              "      <td>44997.0</td>\n",
              "      <td>2018</td>\n",
              "      <td>3</td>\n",
              "      <td>3</td>\n",
              "      <td>1</td>\n",
              "      <td>13</td>\n",
              "      <td>82.904110</td>\n",
              "    </tr>\n",
              "    <tr>\n",
              "      <th>957998</th>\n",
              "      <td>10</td>\n",
              "      <td>50</td>\n",
              "      <td>NaN</td>\n",
              "      <td>44998.0</td>\n",
              "      <td>2018</td>\n",
              "      <td>3</td>\n",
              "      <td>4</td>\n",
              "      <td>1</td>\n",
              "      <td>13</td>\n",
              "      <td>82.904110</td>\n",
              "    </tr>\n",
              "    <tr>\n",
              "      <th>957999</th>\n",
              "      <td>10</td>\n",
              "      <td>50</td>\n",
              "      <td>NaN</td>\n",
              "      <td>44999.0</td>\n",
              "      <td>2018</td>\n",
              "      <td>3</td>\n",
              "      <td>5</td>\n",
              "      <td>1</td>\n",
              "      <td>13</td>\n",
              "      <td>82.904110</td>\n",
              "    </tr>\n",
              "  </tbody>\n",
              "</table>\n",
              "<p>775500 rows × 10 columns</p>\n",
              "</div>"
            ],
            "text/plain": [
              "        store  item     sales       id  ...  day  quarter  weekofyear        tsy\n",
              "365         1     1  0.545228      NaN  ...    2        1           1  16.506849\n",
              "366         1     1  0.848133      NaN  ...    3        1           1  16.506849\n",
              "367         1     1  0.666390      NaN  ...    4        1           1  16.506849\n",
              "368         1     1  1.211618      NaN  ...    5        1           1  16.506849\n",
              "369         1     1  1.029876      NaN  ...    6        1           1  16.506849\n",
              "...       ...   ...       ...      ...  ...  ...      ...         ...        ...\n",
              "957995     10    50       NaN  44995.0  ...    1        1          13  82.904110\n",
              "957996     10    50       NaN  44996.0  ...    2        1          13  82.904110\n",
              "957997     10    50       NaN  44997.0  ...    3        1          13  82.904110\n",
              "957998     10    50       NaN  44998.0  ...    4        1          13  82.904110\n",
              "957999     10    50       NaN  44999.0  ...    5        1          13  82.904110\n",
              "\n",
              "[775500 rows x 10 columns]"
            ]
          },
          "metadata": {},
          "execution_count": 37
        }
      ]
    },
    {
      "cell_type": "code",
      "metadata": {
        "colab": {
          "base_uri": "https://localhost:8080/"
        },
        "id": "jbkoTFkLibT1",
        "outputId": "baa7b5fe-a1e8-4f6d-efea-63b0f55f78e2"
      },
      "source": [
        "#kiểm tra NaN\n",
        "two_df_nan= two_df.isna()\n",
        "two_df_sum_nan = two_df_nan.sum()\n",
        "two_df_sum_nan"
      ],
      "execution_count": 38,
      "outputs": [
        {
          "output_type": "execute_result",
          "data": {
            "text/plain": [
              "store              0\n",
              "item               0\n",
              "sales          45000\n",
              "id            730500\n",
              "year               0\n",
              "month              0\n",
              "day                0\n",
              "quarter            0\n",
              "weekofyear         0\n",
              "tsy                0\n",
              "dtype: int64"
            ]
          },
          "metadata": {},
          "execution_count": 38
        }
      ]
    },
    {
      "cell_type": "markdown",
      "metadata": {
        "id": "R0pMn71MQSn3"
      },
      "source": [
        "#Pop lấy tsy trong two_df"
      ]
    },
    {
      "cell_type": "code",
      "metadata": {
        "id": "5LLUTy0Czfjv"
      },
      "source": [
        "tsy=two_df.pop('tsy')"
      ],
      "execution_count": 39,
      "outputs": []
    },
    {
      "cell_type": "code",
      "metadata": {
        "colab": {
          "base_uri": "https://localhost:8080/"
        },
        "id": "Q6CyZJlwzh_X",
        "outputId": "99673526-18c3-4e5e-ad9f-2ea629ab6285"
      },
      "source": [
        "tsy"
      ],
      "execution_count": 40,
      "outputs": [
        {
          "output_type": "execute_result",
          "data": {
            "text/plain": [
              "365       16.506849\n",
              "366       16.506849\n",
              "367       16.506849\n",
              "368       16.506849\n",
              "369       16.506849\n",
              "            ...    \n",
              "957995    82.904110\n",
              "957996    82.904110\n",
              "957997    82.904110\n",
              "957998    82.904110\n",
              "957999    82.904110\n",
              "Name: tsy, Length: 775500, dtype: float64"
            ]
          },
          "metadata": {},
          "execution_count": 40
        }
      ]
    },
    {
      "cell_type": "markdown",
      "metadata": {
        "id": "M_I6ADgkWwNE"
      },
      "source": [
        "#two_df còn lại"
      ]
    },
    {
      "cell_type": "code",
      "metadata": {
        "colab": {
          "base_uri": "https://localhost:8080/",
          "height": 408
        },
        "id": "b931hEMvQaul",
        "outputId": "727a50eb-26aa-4f4e-d9c5-ef6dd462d3fd"
      },
      "source": [
        "two_df"
      ],
      "execution_count": 41,
      "outputs": [
        {
          "output_type": "execute_result",
          "data": {
            "text/html": [
              "<div>\n",
              "<style scoped>\n",
              "    .dataframe tbody tr th:only-of-type {\n",
              "        vertical-align: middle;\n",
              "    }\n",
              "\n",
              "    .dataframe tbody tr th {\n",
              "        vertical-align: top;\n",
              "    }\n",
              "\n",
              "    .dataframe thead th {\n",
              "        text-align: right;\n",
              "    }\n",
              "</style>\n",
              "<table border=\"1\" class=\"dataframe\">\n",
              "  <thead>\n",
              "    <tr style=\"text-align: right;\">\n",
              "      <th></th>\n",
              "      <th>store</th>\n",
              "      <th>item</th>\n",
              "      <th>sales</th>\n",
              "      <th>id</th>\n",
              "      <th>year</th>\n",
              "      <th>month</th>\n",
              "      <th>day</th>\n",
              "      <th>quarter</th>\n",
              "      <th>weekofyear</th>\n",
              "    </tr>\n",
              "  </thead>\n",
              "  <tbody>\n",
              "    <tr>\n",
              "      <th>365</th>\n",
              "      <td>1</td>\n",
              "      <td>1</td>\n",
              "      <td>0.545228</td>\n",
              "      <td>NaN</td>\n",
              "      <td>2014</td>\n",
              "      <td>1</td>\n",
              "      <td>2</td>\n",
              "      <td>1</td>\n",
              "      <td>1</td>\n",
              "    </tr>\n",
              "    <tr>\n",
              "      <th>366</th>\n",
              "      <td>1</td>\n",
              "      <td>1</td>\n",
              "      <td>0.848133</td>\n",
              "      <td>NaN</td>\n",
              "      <td>2014</td>\n",
              "      <td>1</td>\n",
              "      <td>3</td>\n",
              "      <td>1</td>\n",
              "      <td>1</td>\n",
              "    </tr>\n",
              "    <tr>\n",
              "      <th>367</th>\n",
              "      <td>1</td>\n",
              "      <td>1</td>\n",
              "      <td>0.666390</td>\n",
              "      <td>NaN</td>\n",
              "      <td>2014</td>\n",
              "      <td>1</td>\n",
              "      <td>4</td>\n",
              "      <td>1</td>\n",
              "      <td>1</td>\n",
              "    </tr>\n",
              "    <tr>\n",
              "      <th>368</th>\n",
              "      <td>1</td>\n",
              "      <td>1</td>\n",
              "      <td>1.211618</td>\n",
              "      <td>NaN</td>\n",
              "      <td>2014</td>\n",
              "      <td>1</td>\n",
              "      <td>5</td>\n",
              "      <td>1</td>\n",
              "      <td>1</td>\n",
              "    </tr>\n",
              "    <tr>\n",
              "      <th>369</th>\n",
              "      <td>1</td>\n",
              "      <td>1</td>\n",
              "      <td>1.029876</td>\n",
              "      <td>NaN</td>\n",
              "      <td>2014</td>\n",
              "      <td>1</td>\n",
              "      <td>6</td>\n",
              "      <td>1</td>\n",
              "      <td>1</td>\n",
              "    </tr>\n",
              "    <tr>\n",
              "      <th>...</th>\n",
              "      <td>...</td>\n",
              "      <td>...</td>\n",
              "      <td>...</td>\n",
              "      <td>...</td>\n",
              "      <td>...</td>\n",
              "      <td>...</td>\n",
              "      <td>...</td>\n",
              "      <td>...</td>\n",
              "      <td>...</td>\n",
              "    </tr>\n",
              "    <tr>\n",
              "      <th>957995</th>\n",
              "      <td>10</td>\n",
              "      <td>50</td>\n",
              "      <td>NaN</td>\n",
              "      <td>44995.0</td>\n",
              "      <td>2018</td>\n",
              "      <td>3</td>\n",
              "      <td>1</td>\n",
              "      <td>1</td>\n",
              "      <td>13</td>\n",
              "    </tr>\n",
              "    <tr>\n",
              "      <th>957996</th>\n",
              "      <td>10</td>\n",
              "      <td>50</td>\n",
              "      <td>NaN</td>\n",
              "      <td>44996.0</td>\n",
              "      <td>2018</td>\n",
              "      <td>3</td>\n",
              "      <td>2</td>\n",
              "      <td>1</td>\n",
              "      <td>13</td>\n",
              "    </tr>\n",
              "    <tr>\n",
              "      <th>957997</th>\n",
              "      <td>10</td>\n",
              "      <td>50</td>\n",
              "      <td>NaN</td>\n",
              "      <td>44997.0</td>\n",
              "      <td>2018</td>\n",
              "      <td>3</td>\n",
              "      <td>3</td>\n",
              "      <td>1</td>\n",
              "      <td>13</td>\n",
              "    </tr>\n",
              "    <tr>\n",
              "      <th>957998</th>\n",
              "      <td>10</td>\n",
              "      <td>50</td>\n",
              "      <td>NaN</td>\n",
              "      <td>44998.0</td>\n",
              "      <td>2018</td>\n",
              "      <td>3</td>\n",
              "      <td>4</td>\n",
              "      <td>1</td>\n",
              "      <td>13</td>\n",
              "    </tr>\n",
              "    <tr>\n",
              "      <th>957999</th>\n",
              "      <td>10</td>\n",
              "      <td>50</td>\n",
              "      <td>NaN</td>\n",
              "      <td>44999.0</td>\n",
              "      <td>2018</td>\n",
              "      <td>3</td>\n",
              "      <td>5</td>\n",
              "      <td>1</td>\n",
              "      <td>13</td>\n",
              "    </tr>\n",
              "  </tbody>\n",
              "</table>\n",
              "<p>775500 rows × 9 columns</p>\n",
              "</div>"
            ],
            "text/plain": [
              "        store  item     sales       id  year  month  day  quarter  weekofyear\n",
              "365         1     1  0.545228      NaN  2014      1    2        1           1\n",
              "366         1     1  0.848133      NaN  2014      1    3        1           1\n",
              "367         1     1  0.666390      NaN  2014      1    4        1           1\n",
              "368         1     1  1.211618      NaN  2014      1    5        1           1\n",
              "369         1     1  1.029876      NaN  2014      1    6        1           1\n",
              "...       ...   ...       ...      ...   ...    ...  ...      ...         ...\n",
              "957995     10    50       NaN  44995.0  2018      3    1        1          13\n",
              "957996     10    50       NaN  44996.0  2018      3    2        1          13\n",
              "957997     10    50       NaN  44997.0  2018      3    3        1          13\n",
              "957998     10    50       NaN  44998.0  2018      3    4        1          13\n",
              "957999     10    50       NaN  44999.0  2018      3    5        1          13\n",
              "\n",
              "[775500 rows x 9 columns]"
            ]
          },
          "metadata": {},
          "execution_count": 41
        }
      ]
    },
    {
      "cell_type": "markdown",
      "metadata": {
        "id": "Vive8RcUNGci"
      },
      "source": [
        "#Pop cột sales và id"
      ]
    },
    {
      "cell_type": "code",
      "metadata": {
        "colab": {
          "base_uri": "https://localhost:8080/"
        },
        "id": "zAMtG-OSNDpW",
        "outputId": "b5752816-1dbf-4ee0-dd19-c52d3a2971bd"
      },
      "source": [
        "Id=two_df[two_df.id.notna()]['id']\n",
        "target = two_df[two_df.sales.notna()]['sales']\n",
        "two_df.drop('id', axis=1, inplace=True)\n",
        "two_df.drop('sales', axis=1, inplace=True)"
      ],
      "execution_count": 42,
      "outputs": [
        {
          "output_type": "stream",
          "name": "stderr",
          "text": [
            "/usr/local/lib/python3.7/dist-packages/pandas/core/frame.py:4174: SettingWithCopyWarning: \n",
            "A value is trying to be set on a copy of a slice from a DataFrame\n",
            "\n",
            "See the caveats in the documentation: https://pandas.pydata.org/pandas-docs/stable/user_guide/indexing.html#returning-a-view-versus-a-copy\n",
            "  errors=errors,\n"
          ]
        }
      ]
    },
    {
      "cell_type": "code",
      "metadata": {
        "colab": {
          "base_uri": "https://localhost:8080/"
        },
        "id": "-KSdF7QOOJy0",
        "outputId": "29d72a80-7d6d-49a8-be90-8ec56efd8423"
      },
      "source": [
        "target"
      ],
      "execution_count": 43,
      "outputs": [
        {
          "output_type": "execute_result",
          "data": {
            "text/plain": [
              "365       0.545228\n",
              "366       0.848133\n",
              "367       0.666390\n",
              "368       1.211618\n",
              "369       1.029876\n",
              "            ...   \n",
              "912995    0.782901\n",
              "912996    0.733193\n",
              "912997    0.919598\n",
              "912998    0.770474\n",
              "912999    1.019014\n",
              "Name: sales, Length: 730500, dtype: float64"
            ]
          },
          "metadata": {},
          "execution_count": 43
        }
      ]
    },
    {
      "cell_type": "code",
      "metadata": {
        "colab": {
          "base_uri": "https://localhost:8080/",
          "height": 408
        },
        "id": "SgQxwPAWPyWA",
        "outputId": "23353622-324a-4e91-a97c-1fcc5db97e59"
      },
      "source": [
        "two_df"
      ],
      "execution_count": 44,
      "outputs": [
        {
          "output_type": "execute_result",
          "data": {
            "text/html": [
              "<div>\n",
              "<style scoped>\n",
              "    .dataframe tbody tr th:only-of-type {\n",
              "        vertical-align: middle;\n",
              "    }\n",
              "\n",
              "    .dataframe tbody tr th {\n",
              "        vertical-align: top;\n",
              "    }\n",
              "\n",
              "    .dataframe thead th {\n",
              "        text-align: right;\n",
              "    }\n",
              "</style>\n",
              "<table border=\"1\" class=\"dataframe\">\n",
              "  <thead>\n",
              "    <tr style=\"text-align: right;\">\n",
              "      <th></th>\n",
              "      <th>store</th>\n",
              "      <th>item</th>\n",
              "      <th>year</th>\n",
              "      <th>month</th>\n",
              "      <th>day</th>\n",
              "      <th>quarter</th>\n",
              "      <th>weekofyear</th>\n",
              "    </tr>\n",
              "  </thead>\n",
              "  <tbody>\n",
              "    <tr>\n",
              "      <th>365</th>\n",
              "      <td>1</td>\n",
              "      <td>1</td>\n",
              "      <td>2014</td>\n",
              "      <td>1</td>\n",
              "      <td>2</td>\n",
              "      <td>1</td>\n",
              "      <td>1</td>\n",
              "    </tr>\n",
              "    <tr>\n",
              "      <th>366</th>\n",
              "      <td>1</td>\n",
              "      <td>1</td>\n",
              "      <td>2014</td>\n",
              "      <td>1</td>\n",
              "      <td>3</td>\n",
              "      <td>1</td>\n",
              "      <td>1</td>\n",
              "    </tr>\n",
              "    <tr>\n",
              "      <th>367</th>\n",
              "      <td>1</td>\n",
              "      <td>1</td>\n",
              "      <td>2014</td>\n",
              "      <td>1</td>\n",
              "      <td>4</td>\n",
              "      <td>1</td>\n",
              "      <td>1</td>\n",
              "    </tr>\n",
              "    <tr>\n",
              "      <th>368</th>\n",
              "      <td>1</td>\n",
              "      <td>1</td>\n",
              "      <td>2014</td>\n",
              "      <td>1</td>\n",
              "      <td>5</td>\n",
              "      <td>1</td>\n",
              "      <td>1</td>\n",
              "    </tr>\n",
              "    <tr>\n",
              "      <th>369</th>\n",
              "      <td>1</td>\n",
              "      <td>1</td>\n",
              "      <td>2014</td>\n",
              "      <td>1</td>\n",
              "      <td>6</td>\n",
              "      <td>1</td>\n",
              "      <td>1</td>\n",
              "    </tr>\n",
              "    <tr>\n",
              "      <th>...</th>\n",
              "      <td>...</td>\n",
              "      <td>...</td>\n",
              "      <td>...</td>\n",
              "      <td>...</td>\n",
              "      <td>...</td>\n",
              "      <td>...</td>\n",
              "      <td>...</td>\n",
              "    </tr>\n",
              "    <tr>\n",
              "      <th>957995</th>\n",
              "      <td>10</td>\n",
              "      <td>50</td>\n",
              "      <td>2018</td>\n",
              "      <td>3</td>\n",
              "      <td>1</td>\n",
              "      <td>1</td>\n",
              "      <td>13</td>\n",
              "    </tr>\n",
              "    <tr>\n",
              "      <th>957996</th>\n",
              "      <td>10</td>\n",
              "      <td>50</td>\n",
              "      <td>2018</td>\n",
              "      <td>3</td>\n",
              "      <td>2</td>\n",
              "      <td>1</td>\n",
              "      <td>13</td>\n",
              "    </tr>\n",
              "    <tr>\n",
              "      <th>957997</th>\n",
              "      <td>10</td>\n",
              "      <td>50</td>\n",
              "      <td>2018</td>\n",
              "      <td>3</td>\n",
              "      <td>3</td>\n",
              "      <td>1</td>\n",
              "      <td>13</td>\n",
              "    </tr>\n",
              "    <tr>\n",
              "      <th>957998</th>\n",
              "      <td>10</td>\n",
              "      <td>50</td>\n",
              "      <td>2018</td>\n",
              "      <td>3</td>\n",
              "      <td>4</td>\n",
              "      <td>1</td>\n",
              "      <td>13</td>\n",
              "    </tr>\n",
              "    <tr>\n",
              "      <th>957999</th>\n",
              "      <td>10</td>\n",
              "      <td>50</td>\n",
              "      <td>2018</td>\n",
              "      <td>3</td>\n",
              "      <td>5</td>\n",
              "      <td>1</td>\n",
              "      <td>13</td>\n",
              "    </tr>\n",
              "  </tbody>\n",
              "</table>\n",
              "<p>775500 rows × 7 columns</p>\n",
              "</div>"
            ],
            "text/plain": [
              "        store  item  year  month  day  quarter  weekofyear\n",
              "365         1     1  2014      1    2        1           1\n",
              "366         1     1  2014      1    3        1           1\n",
              "367         1     1  2014      1    4        1           1\n",
              "368         1     1  2014      1    5        1           1\n",
              "369         1     1  2014      1    6        1           1\n",
              "...       ...   ...   ...    ...  ...      ...         ...\n",
              "957995     10    50  2018      3    1        1          13\n",
              "957996     10    50  2018      3    2        1          13\n",
              "957997     10    50  2018      3    3        1          13\n",
              "957998     10    50  2018      3    4        1          13\n",
              "957999     10    50  2018      3    5        1          13\n",
              "\n",
              "[775500 rows x 7 columns]"
            ]
          },
          "metadata": {},
          "execution_count": 44
        }
      ]
    },
    {
      "cell_type": "markdown",
      "metadata": {
        "id": "t-lDhdh8XAUb"
      },
      "source": [
        "#1.LGBM (Tốt nhất) cho điểm cao nhất"
      ]
    },
    {
      "cell_type": "markdown",
      "metadata": {
        "id": "Y8u7GjjbQk0M"
      },
      "source": [
        "#Set parameters cho mô hình LGBM"
      ]
    },
    {
      "cell_type": "code",
      "metadata": {
        "id": "UhpMsDNQQwgC"
      },
      "source": [
        "params = {\n",
        "    'nthread': 10, #số luồng cho LGBM\n",
        "    'max_depth': 6, #giới hạn độ sâu cho tree model\n",
        "    'task': 'train', #train\n",
        "    'boosting_type': 'gbdt', #Cây quyết định tăng cường Gradient truyền thống\n",
        "    'objective': 'regression_l1',\n",
        "    'metric': 'mape', #abs(a-e)/max(1,a) #chỉ số đánh giá: sai số trung bình tuyệt đối\n",
        "    'num_leaves': 31, #số lá tối đa của 1 cây\n",
        "    'learning_rate': 0.25,\n",
        "    'feature_fraction': 0.9, #LGBM sẽ chọn 80% feature trước khi training\n",
        "    'bagging_fraction': 0.8, # tương tự như feature_fraction nhưng không cần lấy mẫu lại\n",
        "    'bagging_freq': 5, #tần suất bao đóng\n",
        "    'lambda_l1': 0.06,\n",
        "    'lambda_l2': 0.1,\n",
        "    'verbose': -1 #mức độ chi tiết của mô hình LGBM\n",
        "}"
      ],
      "execution_count": 45,
      "outputs": []
    },
    {
      "cell_type": "markdown",
      "metadata": {
        "id": "a4vy7YkkfLYi"
      },
      "source": [
        "#Lấy tương đương tập test và train cho x_test và y_all"
      ]
    },
    {
      "cell_type": "code",
      "metadata": {
        "id": "mpIqNOq0Xehz"
      },
      "source": [
        "train_length = len(target)\n",
        "x_test = two_df[train_length:].values #lấy tương đương tập test"
      ],
      "execution_count": 46,
      "outputs": []
    },
    {
      "cell_type": "code",
      "metadata": {
        "colab": {
          "base_uri": "https://localhost:8080/"
        },
        "id": "2cU5pdc_Qz-g",
        "outputId": "9d9e2bd8-ed45-417b-af34-2642020f4301"
      },
      "source": [
        "len(x_test)"
      ],
      "execution_count": 47,
      "outputs": [
        {
          "output_type": "execute_result",
          "data": {
            "text/plain": [
              "45000"
            ]
          },
          "metadata": {},
          "execution_count": 47
        }
      ]
    },
    {
      "cell_type": "code",
      "metadata": {
        "id": "9neHOt61bN1F"
      },
      "source": [
        "x_all = two_df[:train_length].values #lấy tương đương tập train\n",
        "y_all = target.values"
      ],
      "execution_count": 48,
      "outputs": []
    },
    {
      "cell_type": "code",
      "metadata": {
        "colab": {
          "base_uri": "https://localhost:8080/"
        },
        "id": "2WX-zLAjbTiE",
        "outputId": "bf60a435-d6cb-445a-fafd-85790be50721"
      },
      "source": [
        "len(y_all)"
      ],
      "execution_count": 49,
      "outputs": [
        {
          "output_type": "execute_result",
          "data": {
            "text/plain": [
              "730500"
            ]
          },
          "metadata": {},
          "execution_count": 49
        }
      ]
    },
    {
      "cell_type": "markdown",
      "metadata": {
        "id": "wUI_1x0QnXTL"
      },
      "source": [
        "#Tạo mảng mới toàn số 0 với số phần tử = với len(y_all) và len(x_test)"
      ]
    },
    {
      "cell_type": "code",
      "metadata": {
        "id": "rrR6VE4Jlt_B"
      },
      "source": [
        "a = np.zeros(len(y_all))\n",
        "b = np.zeros(len(x_test))"
      ],
      "execution_count": 50,
      "outputs": []
    },
    {
      "cell_type": "code",
      "metadata": {
        "colab": {
          "base_uri": "https://localhost:8080/"
        },
        "id": "Un7A3xCGn-Bm",
        "outputId": "30576d43-5adb-4354-9cff-8a507fc9d910"
      },
      "source": [
        "a"
      ],
      "execution_count": 51,
      "outputs": [
        {
          "output_type": "execute_result",
          "data": {
            "text/plain": [
              "array([0., 0., 0., ..., 0., 0., 0.])"
            ]
          },
          "metadata": {},
          "execution_count": 51
        }
      ]
    },
    {
      "cell_type": "code",
      "metadata": {
        "colab": {
          "base_uri": "https://localhost:8080/"
        },
        "id": "C63eQ28yXhKl",
        "outputId": "e85fd49d-5258-40c3-e948-6abd7551d7b9"
      },
      "source": [
        "b"
      ],
      "execution_count": 52,
      "outputs": [
        {
          "output_type": "execute_result",
          "data": {
            "text/plain": [
              "array([0., 0., 0., ..., 0., 0., 0.])"
            ]
          },
          "metadata": {},
          "execution_count": 52
        }
      ]
    },
    {
      "cell_type": "markdown",
      "metadata": {
        "id": "AeeuzngJiEDh"
      },
      "source": [
        "#Sử dụng phương pháp K-Fold"
      ]
    },
    {
      "cell_type": "code",
      "metadata": {
        "colab": {
          "base_uri": "https://localhost:8080/"
        },
        "id": "7mRG1BwUheJz",
        "outputId": "8a81c014-1b04-4d33-b454-25eb0acfb469"
      },
      "source": [
        "#chia tập thành 5 fold, có xáo trộn(shuffle)\n",
        "folds = KFold(n_splits=5, shuffle=True, random_state=345665)\n",
        "\n",
        "for n_fold, (train_index, valid_index) in enumerate(folds.split(x_all)):\n",
        "    #tập x_train tương đương với tập x_all\n",
        "    #nhãn y_train sẽ tương tương với nhãn x_all\n",
        "    print(train_index)\n",
        "    print(valid_index)\n",
        "    x_train, y_train = x_all[train_index], y_all[train_index]\n",
        "    #tập dữ liệu xác thực\n",
        "    valid_x, valid_y = x_all[valid_index], y_all[valid_index]\n",
        "    #tải dữ liệu vào dataset\n",
        "    lgb_train = lgb.Dataset(x_train,y_train)\n",
        "    lgb_valid = lgb.Dataset(valid_x,valid_y)\n",
        "    #training\n",
        "    gbm = lgb.train(params, lgb_train, 1000, \n",
        "        valid_sets=[lgb_train, lgb_valid], #truyền vào tập dữ liệu xác thực để dừng sớm\n",
        "        early_stopping_rounds=200, verbose_eval=100) \n",
        "    a[valid_index] = gbm.predict(valid_x, num_iteration=gbm.best_iteration) #nhận dự đoán từ lần lặp tốt nhất\n",
        "    b[:] += gbm.predict(x_test, num_iteration=gbm.best_iteration) / folds.n_splits\n",
        "    valid_index += 1"
      ],
      "execution_count": 53,
      "outputs": [
        {
          "output_type": "stream",
          "name": "stdout",
          "text": [
            "[     0      3      4 ... 730496 730498 730499]\n",
            "[     1      2      8 ... 730491 730493 730497]\n",
            "Training until validation scores don't improve for 200 rounds.\n",
            "[100]\ttraining's mape: 0.109131\tvalid_1's mape: 0.109651\n",
            "[200]\ttraining's mape: 0.108827\tvalid_1's mape: 0.109715\n",
            "Early stopping, best iteration is:\n",
            "[33]\ttraining's mape: 0.10944\tvalid_1's mape: 0.109609\n",
            "[     0      1      2 ... 730496 730497 730498]\n",
            "[     5     11     27 ... 730479 730495 730499]\n",
            "Training until validation scores don't improve for 200 rounds.\n",
            "[100]\ttraining's mape: 0.109136\tvalid_1's mape: 0.109764\n",
            "[200]\ttraining's mape: 0.108816\tvalid_1's mape: 0.109834\n",
            "Early stopping, best iteration is:\n",
            "[59]\ttraining's mape: 0.109297\tvalid_1's mape: 0.109709\n",
            "[     0      1      2 ... 730496 730497 730499]\n",
            "[     9     15     18 ... 730490 730492 730498]\n",
            "Training until validation scores don't improve for 200 rounds.\n",
            "[100]\ttraining's mape: 0.109147\tvalid_1's mape: 0.109665\n",
            "[200]\ttraining's mape: 0.108853\tvalid_1's mape: 0.109735\n",
            "Early stopping, best iteration is:\n",
            "[78]\ttraining's mape: 0.109225\tvalid_1's mape: 0.109644\n",
            "[     1      2      3 ... 730497 730498 730499]\n",
            "[     0      7     10 ... 730469 730475 730496]\n",
            "Training until validation scores don't improve for 200 rounds.\n",
            "[100]\ttraining's mape: 0.109204\tvalid_1's mape: 0.10952\n",
            "[200]\ttraining's mape: 0.108893\tvalid_1's mape: 0.109565\n",
            "Early stopping, best iteration is:\n",
            "[40]\ttraining's mape: 0.109463\tvalid_1's mape: 0.109451\n",
            "[     0      1      2 ... 730497 730498 730499]\n",
            "[     3      4      6 ... 730486 730489 730494]\n",
            "Training until validation scores don't improve for 200 rounds.\n",
            "[100]\ttraining's mape: 0.109135\tvalid_1's mape: 0.109669\n",
            "[200]\ttraining's mape: 0.108819\tvalid_1's mape: 0.109742\n",
            "Early stopping, best iteration is:\n",
            "[22]\ttraining's mape: 0.109525\tvalid_1's mape: 0.109635\n"
          ]
        }
      ]
    },
    {
      "cell_type": "markdown",
      "metadata": {
        "id": "n6C2FDdYetYA"
      },
      "source": [
        "#2.XGB cho score thấp hơn LGBM"
      ]
    },
    {
      "cell_type": "markdown",
      "metadata": {
        "id": "PpBVoTx7fVJh"
      },
      "source": [
        "#Cũng sử dụng K Fold"
      ]
    },
    {
      "cell_type": "code",
      "metadata": {
        "colab": {
          "base_uri": "https://localhost:8080/",
          "height": 213
        },
        "id": "0RToRCGpeswp",
        "outputId": "f2dbe078-18c7-47bc-ee06-ad8efb6e691b"
      },
      "source": [
        "'''#chia tập thành 5 fold, có xáo trộn(shuffle)\n",
        "folds = KFold(n_splits=5, shuffle=True, random_state=345665)\n",
        "\n",
        "for n_fold, (train_index, valid_index) in enumerate(folds.split(x_all)):\n",
        "    #tập x_train tương đương với tập x_all\n",
        "    #nhãn y_train sẽ tương tương với nhãn x_all\n",
        "    print(train_index)\n",
        "    print(valid_index)\n",
        "    x_train, y_train = x_all[train_index], y_all[train_index]\n",
        "    #tập dữ liệu xác thực\n",
        "    valid_x, valid_y = x_all[valid_index], y_all[valid_index]\n",
        "    #tải dữ liệu vào dataset\n",
        "    lgb_train = lgb.Dataset(x_train,y_train)\n",
        "    lgb_valid = lgb.Dataset(valid_x,valid_y)\n",
        "    #training\n",
        "    matrix_train = xgb.DMatrix(x_train, label = y_train)\n",
        "    matrix_test = xgb.DMatrix(valid_x, label = valid_y)\n",
        "\n",
        "    # Run XGB \n",
        "    model = xgb.train(params={'objective':'reg:linear','eval_metric':'mae'}\n",
        "                ,dtrain = matrix_train, num_boost_round = 500, \n",
        "                early_stopping_rounds = 20, evals = [(matrix_test,'test')],)\n",
        "    a[valid_index] = model.predict(xgb.DMatrix(valid_x), ntree_limit = model.best_ntree_limit) #nhận dự đoán từ lần lặp tốt nhất\n",
        "    b[:] += model.predict(xgb.DMatrix(x_test), ntree_limit = model.best_ntree_limit) / folds.n_splits\n",
        "    valid_index += 1'''"
      ],
      "execution_count": 54,
      "outputs": [
        {
          "output_type": "execute_result",
          "data": {
            "application/vnd.google.colaboratory.intrinsic+json": {
              "type": "string"
            },
            "text/plain": [
              "\"#chia tập thành 5 fold, có xáo trộn(shuffle)\\nfolds = KFold(n_splits=5, shuffle=True, random_state=345665)\\n\\nfor n_fold, (train_index, valid_index) in enumerate(folds.split(x_all)):\\n    #tập x_train tương đương với tập x_all\\n    #nhãn y_train sẽ tương tương với nhãn x_all\\n    print(train_index)\\n    print(valid_index)\\n    x_train, y_train = x_all[train_index], y_all[train_index]\\n    #tập dữ liệu xác thực\\n    valid_x, valid_y = x_all[valid_index], y_all[valid_index]\\n    #tải dữ liệu vào dataset\\n    lgb_train = lgb.Dataset(x_train,y_train)\\n    lgb_valid = lgb.Dataset(valid_x,valid_y)\\n    #training\\n    matrix_train = xgb.DMatrix(x_train, label = y_train)\\n    matrix_test = xgb.DMatrix(valid_x, label = valid_y)\\n\\n    # Run XGB \\n    model = xgb.train(params={'objective':'reg:linear','eval_metric':'mae'}\\n                ,dtrain = matrix_train, num_boost_round = 500, \\n                early_stopping_rounds = 20, evals = [(matrix_test,'test')],)\\n    a[valid_index] = model.predict(xgb.DMatrix(valid_x), ntree_limit = model.best_ntree_limit) #nhận dự đoán từ lần lặp tốt nhất\\n    b[:] += model.predict(xgb.DMatrix(x_test), ntree_limit = model.best_ntree_limit) / folds.n_splits\\n    valid_index += 1\""
            ]
          },
          "metadata": {},
          "execution_count": 54
        }
      ]
    },
    {
      "cell_type": "code",
      "metadata": {
        "colab": {
          "base_uri": "https://localhost:8080/"
        },
        "id": "TeO7df0SccAu",
        "outputId": "6bd94f65-6e22-42b1-d673-4ccad3cdf1e4"
      },
      "source": [
        "a.shape"
      ],
      "execution_count": 55,
      "outputs": [
        {
          "output_type": "execute_result",
          "data": {
            "text/plain": [
              "(730500,)"
            ]
          },
          "metadata": {},
          "execution_count": 55
        }
      ]
    },
    {
      "cell_type": "code",
      "metadata": {
        "colab": {
          "base_uri": "https://localhost:8080/"
        },
        "id": "5TKWOANiiF8f",
        "outputId": "2cd5dd7c-acfd-4ffb-83ec-30064d4e9562"
      },
      "source": [
        "a[valid_index]"
      ],
      "execution_count": 56,
      "outputs": [
        {
          "output_type": "execute_result",
          "data": {
            "text/plain": [
              "array([0.91209391, 0.60892947, 0.71476682, ..., 0.71111124, 0.82023659,\n",
              "       0.74436601])"
            ]
          },
          "metadata": {},
          "execution_count": 56
        }
      ]
    },
    {
      "cell_type": "code",
      "metadata": {
        "colab": {
          "base_uri": "https://localhost:8080/"
        },
        "id": "de-FdASNXl7K",
        "outputId": "b617603f-1284-48cc-a30e-ad52e0158750"
      },
      "source": [
        "b"
      ],
      "execution_count": 57,
      "outputs": [
        {
          "output_type": "execute_result",
          "data": {
            "text/plain": [
              "array([0.56267642, 0.64569196, 0.64867986, ..., 0.91850775, 0.97872026,\n",
              "       1.04417661])"
            ]
          },
          "metadata": {},
          "execution_count": 57
        }
      ]
    },
    {
      "cell_type": "code",
      "metadata": {
        "colab": {
          "base_uri": "https://localhost:8080/"
        },
        "id": "P8Zs15GrirDh",
        "outputId": "273dd636-efbf-421b-de15-8b2d1ebea241"
      },
      "source": [
        "b[:]"
      ],
      "execution_count": 58,
      "outputs": [
        {
          "output_type": "execute_result",
          "data": {
            "text/plain": [
              "array([0.56267642, 0.64569196, 0.64867986, ..., 0.91850775, 0.97872026,\n",
              "       1.04417661])"
            ]
          },
          "metadata": {},
          "execution_count": 58
        }
      ]
    },
    {
      "cell_type": "markdown",
      "metadata": {
        "id": "MO5SNW-Kbrt8"
      },
      "source": [
        "#Dự đoán"
      ]
    },
    {
      "cell_type": "code",
      "metadata": {
        "id": "eTouCL4dqDIx"
      },
      "source": [
        "pred = (b * tsy[train_length:] ).astype(np.float32)"
      ],
      "execution_count": 59,
      "outputs": []
    },
    {
      "cell_type": "code",
      "metadata": {
        "colab": {
          "base_uri": "https://localhost:8080/"
        },
        "id": "Ay11g9uhr_Oq",
        "outputId": "e5ebc5e0-b58e-4bf8-8dc8-4d3ad117f1e7"
      },
      "source": [
        "tsy[train_length:]"
      ],
      "execution_count": 60,
      "outputs": [
        {
          "output_type": "execute_result",
          "data": {
            "text/plain": [
              "913000    22.183562\n",
              "913001    22.183562\n",
              "913002    22.183562\n",
              "913003    22.183562\n",
              "913004    22.183562\n",
              "            ...    \n",
              "957995    82.904110\n",
              "957996    82.904110\n",
              "957997    82.904110\n",
              "957998    82.904110\n",
              "957999    82.904110\n",
              "Name: tsy, Length: 45000, dtype: float64"
            ]
          },
          "metadata": {},
          "execution_count": 60
        }
      ]
    },
    {
      "cell_type": "code",
      "metadata": {
        "colab": {
          "base_uri": "https://localhost:8080/"
        },
        "id": "gTtPhbOAqSIc",
        "outputId": "bd6de58f-0794-46ba-d3e4-d6f47a9c0b8e"
      },
      "source": [
        "pred"
      ],
      "execution_count": 61,
      "outputs": [
        {
          "output_type": "execute_result",
          "data": {
            "text/plain": [
              "913000    12.482167\n",
              "913001    14.323748\n",
              "913002    14.390030\n",
              "913003    15.364563\n",
              "913004    16.320196\n",
              "            ...    \n",
              "957995    71.475647\n",
              "957996    71.674728\n",
              "957997    76.148064\n",
              "957998    81.139931\n",
              "957999    86.566528\n",
              "Name: tsy, Length: 45000, dtype: float32"
            ]
          },
          "metadata": {},
          "execution_count": 61
        }
      ]
    },
    {
      "cell_type": "markdown",
      "metadata": {
        "id": "tiQgwdZUS9K8"
      },
      "source": [
        "#File submission"
      ]
    },
    {
      "cell_type": "code",
      "metadata": {
        "colab": {
          "base_uri": "https://localhost:8080/",
          "height": 502
        },
        "id": "WllQjCXLqiGC",
        "outputId": "f889f9a4-b521-4332-9383-5b58be8a744e"
      },
      "source": [
        "submission = pd.DataFrame({'id': Id.astype(np.int32), 'sales': pred})\n",
        "submission.to_csv('submission.csv', index=False)\n",
        "submission.head(15)"
      ],
      "execution_count": 62,
      "outputs": [
        {
          "output_type": "execute_result",
          "data": {
            "text/html": [
              "<div>\n",
              "<style scoped>\n",
              "    .dataframe tbody tr th:only-of-type {\n",
              "        vertical-align: middle;\n",
              "    }\n",
              "\n",
              "    .dataframe tbody tr th {\n",
              "        vertical-align: top;\n",
              "    }\n",
              "\n",
              "    .dataframe thead th {\n",
              "        text-align: right;\n",
              "    }\n",
              "</style>\n",
              "<table border=\"1\" class=\"dataframe\">\n",
              "  <thead>\n",
              "    <tr style=\"text-align: right;\">\n",
              "      <th></th>\n",
              "      <th>id</th>\n",
              "      <th>sales</th>\n",
              "    </tr>\n",
              "  </thead>\n",
              "  <tbody>\n",
              "    <tr>\n",
              "      <th>913000</th>\n",
              "      <td>0</td>\n",
              "      <td>12.482167</td>\n",
              "    </tr>\n",
              "    <tr>\n",
              "      <th>913001</th>\n",
              "      <td>1</td>\n",
              "      <td>14.323748</td>\n",
              "    </tr>\n",
              "    <tr>\n",
              "      <th>913002</th>\n",
              "      <td>2</td>\n",
              "      <td>14.390030</td>\n",
              "    </tr>\n",
              "    <tr>\n",
              "      <th>913003</th>\n",
              "      <td>3</td>\n",
              "      <td>15.364563</td>\n",
              "    </tr>\n",
              "    <tr>\n",
              "      <th>913004</th>\n",
              "      <td>4</td>\n",
              "      <td>16.320196</td>\n",
              "    </tr>\n",
              "    <tr>\n",
              "      <th>913005</th>\n",
              "      <td>5</td>\n",
              "      <td>17.458395</td>\n",
              "    </tr>\n",
              "    <tr>\n",
              "      <th>913006</th>\n",
              "      <td>6</td>\n",
              "      <td>18.563917</td>\n",
              "    </tr>\n",
              "    <tr>\n",
              "      <th>913007</th>\n",
              "      <td>7</td>\n",
              "      <td>12.467033</td>\n",
              "    </tr>\n",
              "    <tr>\n",
              "      <th>913008</th>\n",
              "      <td>8</td>\n",
              "      <td>14.363509</td>\n",
              "    </tr>\n",
              "    <tr>\n",
              "      <th>913009</th>\n",
              "      <td>9</td>\n",
              "      <td>14.429791</td>\n",
              "    </tr>\n",
              "    <tr>\n",
              "      <th>913010</th>\n",
              "      <td>10</td>\n",
              "      <td>15.404325</td>\n",
              "    </tr>\n",
              "    <tr>\n",
              "      <th>913011</th>\n",
              "      <td>11</td>\n",
              "      <td>16.347555</td>\n",
              "    </tr>\n",
              "    <tr>\n",
              "      <th>913012</th>\n",
              "      <td>12</td>\n",
              "      <td>17.446575</td>\n",
              "    </tr>\n",
              "    <tr>\n",
              "      <th>913013</th>\n",
              "      <td>13</td>\n",
              "      <td>18.500244</td>\n",
              "    </tr>\n",
              "    <tr>\n",
              "      <th>913014</th>\n",
              "      <td>14</td>\n",
              "      <td>12.431761</td>\n",
              "    </tr>\n",
              "  </tbody>\n",
              "</table>\n",
              "</div>"
            ],
            "text/plain": [
              "        id      sales\n",
              "913000   0  12.482167\n",
              "913001   1  14.323748\n",
              "913002   2  14.390030\n",
              "913003   3  15.364563\n",
              "913004   4  16.320196\n",
              "913005   5  17.458395\n",
              "913006   6  18.563917\n",
              "913007   7  12.467033\n",
              "913008   8  14.363509\n",
              "913009   9  14.429791\n",
              "913010  10  15.404325\n",
              "913011  11  16.347555\n",
              "913012  12  17.446575\n",
              "913013  13  18.500244\n",
              "913014  14  12.431761"
            ]
          },
          "metadata": {},
          "execution_count": 62
        }
      ]
    },
    {
      "cell_type": "code",
      "metadata": {
        "id": "uP7w28YXqrWt",
        "colab": {
          "base_uri": "https://localhost:8080/",
          "height": 502
        },
        "outputId": "1a45b8af-727c-4a66-ca8b-77be04845926"
      },
      "source": [
        "submission.tail(15)"
      ],
      "execution_count": 63,
      "outputs": [
        {
          "output_type": "execute_result",
          "data": {
            "text/html": [
              "<div>\n",
              "<style scoped>\n",
              "    .dataframe tbody tr th:only-of-type {\n",
              "        vertical-align: middle;\n",
              "    }\n",
              "\n",
              "    .dataframe tbody tr th {\n",
              "        vertical-align: top;\n",
              "    }\n",
              "\n",
              "    .dataframe thead th {\n",
              "        text-align: right;\n",
              "    }\n",
              "</style>\n",
              "<table border=\"1\" class=\"dataframe\">\n",
              "  <thead>\n",
              "    <tr style=\"text-align: right;\">\n",
              "      <th></th>\n",
              "      <th>id</th>\n",
              "      <th>sales</th>\n",
              "    </tr>\n",
              "  </thead>\n",
              "  <tbody>\n",
              "    <tr>\n",
              "      <th>957985</th>\n",
              "      <td>44985</td>\n",
              "      <td>87.155724</td>\n",
              "    </tr>\n",
              "    <tr>\n",
              "      <th>957986</th>\n",
              "      <td>44986</td>\n",
              "      <td>92.285469</td>\n",
              "    </tr>\n",
              "    <tr>\n",
              "      <th>957987</th>\n",
              "      <td>44987</td>\n",
              "      <td>61.783615</td>\n",
              "    </tr>\n",
              "    <tr>\n",
              "      <th>957988</th>\n",
              "      <td>44988</td>\n",
              "      <td>71.947411</td>\n",
              "    </tr>\n",
              "    <tr>\n",
              "      <th>957989</th>\n",
              "      <td>44989</td>\n",
              "      <td>72.146484</td>\n",
              "    </tr>\n",
              "    <tr>\n",
              "      <th>957990</th>\n",
              "      <td>44990</td>\n",
              "      <td>76.751427</td>\n",
              "    </tr>\n",
              "    <tr>\n",
              "      <th>957991</th>\n",
              "      <td>44991</td>\n",
              "      <td>81.901154</td>\n",
              "    </tr>\n",
              "    <tr>\n",
              "      <th>957992</th>\n",
              "      <td>44992</td>\n",
              "      <td>87.449440</td>\n",
              "    </tr>\n",
              "    <tr>\n",
              "      <th>957993</th>\n",
              "      <td>44993</td>\n",
              "      <td>92.240089</td>\n",
              "    </tr>\n",
              "    <tr>\n",
              "      <th>957994</th>\n",
              "      <td>44994</td>\n",
              "      <td>61.326607</td>\n",
              "    </tr>\n",
              "    <tr>\n",
              "      <th>957995</th>\n",
              "      <td>44995</td>\n",
              "      <td>71.475647</td>\n",
              "    </tr>\n",
              "    <tr>\n",
              "      <th>957996</th>\n",
              "      <td>44996</td>\n",
              "      <td>71.674728</td>\n",
              "    </tr>\n",
              "    <tr>\n",
              "      <th>957997</th>\n",
              "      <td>44997</td>\n",
              "      <td>76.148064</td>\n",
              "    </tr>\n",
              "    <tr>\n",
              "      <th>957998</th>\n",
              "      <td>44998</td>\n",
              "      <td>81.139931</td>\n",
              "    </tr>\n",
              "    <tr>\n",
              "      <th>957999</th>\n",
              "      <td>44999</td>\n",
              "      <td>86.566528</td>\n",
              "    </tr>\n",
              "  </tbody>\n",
              "</table>\n",
              "</div>"
            ],
            "text/plain": [
              "           id      sales\n",
              "957985  44985  87.155724\n",
              "957986  44986  92.285469\n",
              "957987  44987  61.783615\n",
              "957988  44988  71.947411\n",
              "957989  44989  72.146484\n",
              "957990  44990  76.751427\n",
              "957991  44991  81.901154\n",
              "957992  44992  87.449440\n",
              "957993  44993  92.240089\n",
              "957994  44994  61.326607\n",
              "957995  44995  71.475647\n",
              "957996  44996  71.674728\n",
              "957997  44997  76.148064\n",
              "957998  44998  81.139931\n",
              "957999  44999  86.566528"
            ]
          },
          "metadata": {},
          "execution_count": 63
        }
      ]
    }
  ]
}